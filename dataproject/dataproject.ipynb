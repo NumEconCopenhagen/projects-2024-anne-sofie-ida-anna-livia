{
 "cells": [
  {
   "cell_type": "markdown",
   "metadata": {},
   "source": [
    "# YOUR PROJECT TITLE"
   ]
  },
  {
   "attachments": {},
   "cell_type": "markdown",
   "metadata": {},
   "source": [
    "> **Note the following:** \n",
    "> 1. This is *not* meant to be an example of an actual **data analysis project**, just an example of how to structure such a project.\n",
    "> 1. Remember the general advice on structuring and commenting your code\n",
    "> 1. The `dataproject.py` file includes a function which can be used multiple times in this notebook."
   ]
  },
  {
   "cell_type": "markdown",
   "metadata": {},
   "source": [
    "In the recent years, danish policymakers have expressed concern for the state of the national fertility rates. According to the danish newspaper Berlingske, a danish woman would in 2022 on average give birth to 1,55 children (see [this website](https://www.berlingske.dk/samfund/foedselsraten-falder-i-naesten-alle-landsdele-koebenhavn-er-blandt-de)). \n",
    "To sustain the population size without taking immigration into consideration, a woman would need to give birth to 2,1 children. However cynical it may sound, it is of great economical interest why the fertility rates are declining, because policy makers are already introducing measures to deal with the decline. In her new years speech, the prime mininister adressed to the nation that extra rounds of fertility treatment would become accessible for free for danish women in the forthcoming year. In this projject, we investigate the determining factors for the danish fertility.\n"
   ]
  },
  {
   "cell_type": "markdown",
   "metadata": {},
   "source": [
    "Imports and set magics:"
   ]
  },
  {
   "cell_type": "code",
   "execution_count": 44,
   "metadata": {},
   "outputs": [
    {
     "name": "stdout",
     "output_type": "stream",
     "text": [
      "The autoreload extension is already loaded. To reload it, use:\n",
      "  %reload_ext autoreload\n"
     ]
    }
   ],
   "source": [
    "import pandas as pd\n",
    "import numpy as np\n",
    "import matplotlib.pyplot as plt\n",
    "import ipywidgets as widgets\n",
    "import mpl_axes_aligner\n",
    "#from matplotlib_venn import venn2\n",
    "\n",
    "# autoreload modules when code is run\n",
    "%load_ext autoreload\n",
    "%autoreload 2\n",
    "\n",
    "# user written modules\n",
    "import dataproject\n"
   ]
  },
  {
   "cell_type": "code",
   "execution_count": 43,
   "metadata": {},
   "outputs": [
    {
     "name": "stdout",
     "output_type": "stream",
     "text": [
      "Collecting mpl-axes-aligner\n",
      "  Downloading mpl_axes_aligner-1.3.tar.gz (3.9 kB)\n",
      "  Preparing metadata (setup.py): started\n",
      "  Preparing metadata (setup.py): finished with status 'done'\n",
      "Requirement already satisfied: matplotlib in c:\\users\\lenovo\\anaconda3\\lib\\site-packages (from mpl-axes-aligner) (3.7.2)\n",
      "Requirement already satisfied: contourpy>=1.0.1 in c:\\users\\lenovo\\anaconda3\\lib\\site-packages (from matplotlib->mpl-axes-aligner) (1.0.5)\n",
      "Requirement already satisfied: cycler>=0.10 in c:\\users\\lenovo\\anaconda3\\lib\\site-packages (from matplotlib->mpl-axes-aligner) (0.11.0)\n",
      "Requirement already satisfied: fonttools>=4.22.0 in c:\\users\\lenovo\\anaconda3\\lib\\site-packages (from matplotlib->mpl-axes-aligner) (4.25.0)\n",
      "Requirement already satisfied: kiwisolver>=1.0.1 in c:\\users\\lenovo\\anaconda3\\lib\\site-packages (from matplotlib->mpl-axes-aligner) (1.4.4)\n",
      "Requirement already satisfied: numpy>=1.20 in c:\\users\\lenovo\\anaconda3\\lib\\site-packages (from matplotlib->mpl-axes-aligner) (1.24.3)\n",
      "Requirement already satisfied: packaging>=20.0 in c:\\users\\lenovo\\anaconda3\\lib\\site-packages (from matplotlib->mpl-axes-aligner) (23.1)\n",
      "Requirement already satisfied: pillow>=6.2.0 in c:\\users\\lenovo\\anaconda3\\lib\\site-packages (from matplotlib->mpl-axes-aligner) (9.4.0)\n",
      "Requirement already satisfied: pyparsing<3.1,>=2.3.1 in c:\\users\\lenovo\\anaconda3\\lib\\site-packages (from matplotlib->mpl-axes-aligner) (3.0.9)\n",
      "Requirement already satisfied: python-dateutil>=2.7 in c:\\users\\lenovo\\anaconda3\\lib\\site-packages (from matplotlib->mpl-axes-aligner) (2.8.2)\n",
      "Requirement already satisfied: six>=1.5 in c:\\users\\lenovo\\anaconda3\\lib\\site-packages (from python-dateutil>=2.7->matplotlib->mpl-axes-aligner) (1.16.0)\n",
      "Building wheels for collected packages: mpl-axes-aligner\n",
      "  Building wheel for mpl-axes-aligner (setup.py): started\n",
      "  Building wheel for mpl-axes-aligner (setup.py): finished with status 'done'\n",
      "  Created wheel for mpl-axes-aligner: filename=mpl_axes_aligner-1.3-py3-none-any.whl size=4774 sha256=50a3e96c8c87637ac3c0508a2042f63318a731b6f3a07a15464fc78c2db9ffb4\n",
      "  Stored in directory: c:\\users\\lenovo\\appdata\\local\\pip\\cache\\wheels\\fb\\c5\\83\\3e57a13e29e717ea464107db3f256122f336836008bd8e5719\n",
      "Successfully built mpl-axes-aligner\n",
      "Installing collected packages: mpl-axes-aligner\n",
      "Successfully installed mpl-axes-aligner-1.3\n",
      "Note: you may need to restart the kernel to use updated packages.\n"
     ]
    }
   ],
   "source": [
    "#pip install mpl-axes-aligner"
   ]
  },
  {
   "cell_type": "code",
   "execution_count": 2,
   "metadata": {},
   "outputs": [],
   "source": [
    "#pip install git+https://github.com/alemartinello/dstapi"
   ]
  },
  {
   "cell_type": "code",
   "execution_count": 3,
   "metadata": {},
   "outputs": [],
   "source": [
    "import pandas as pd\n",
    "from IPython.display import display\n",
    "import requests\n",
    "from dstapi import DstApi\n"
   ]
  },
  {
   "cell_type": "code",
   "execution_count": 4,
   "metadata": {},
   "outputs": [
    {
     "data": {
      "text/html": [
       "<div>\n",
       "<style scoped>\n",
       "    .dataframe tbody tr th:only-of-type {\n",
       "        vertical-align: middle;\n",
       "    }\n",
       "\n",
       "    .dataframe tbody tr th {\n",
       "        vertical-align: top;\n",
       "    }\n",
       "\n",
       "    .dataframe thead th {\n",
       "        text-align: right;\n",
       "    }\n",
       "</style>\n",
       "<table border=\"1\" class=\"dataframe\">\n",
       "  <thead>\n",
       "    <tr style=\"text-align: right;\">\n",
       "      <th></th>\n",
       "      <th>TRANSAKT</th>\n",
       "      <th>PRISENHED</th>\n",
       "      <th>TID</th>\n",
       "      <th>INDHOLD</th>\n",
       "    </tr>\n",
       "  </thead>\n",
       "  <tbody>\n",
       "    <tr>\n",
       "      <th>0</th>\n",
       "      <td>B.1*g Gross domestic product</td>\n",
       "      <td>Period-to-period real growth (per cent)</td>\n",
       "      <td>1979</td>\n",
       "      <td>3.9</td>\n",
       "    </tr>\n",
       "    <tr>\n",
       "      <th>1</th>\n",
       "      <td>B.1*g Gross domestic product</td>\n",
       "      <td>Period-to-period real growth (per cent)</td>\n",
       "      <td>2022</td>\n",
       "      <td>2.7</td>\n",
       "    </tr>\n",
       "    <tr>\n",
       "      <th>2</th>\n",
       "      <td>B.1*g Gross domestic product</td>\n",
       "      <td>Period-to-period real growth (per cent)</td>\n",
       "      <td>2005</td>\n",
       "      <td>2.3</td>\n",
       "    </tr>\n",
       "    <tr>\n",
       "      <th>3</th>\n",
       "      <td>B.1*g Gross domestic product</td>\n",
       "      <td>Period-to-period real growth (per cent)</td>\n",
       "      <td>1985</td>\n",
       "      <td>4.0</td>\n",
       "    </tr>\n",
       "    <tr>\n",
       "      <th>4</th>\n",
       "      <td>B.1*g Gross domestic product</td>\n",
       "      <td>Period-to-period real growth (per cent)</td>\n",
       "      <td>1991</td>\n",
       "      <td>1.4</td>\n",
       "    </tr>\n",
       "  </tbody>\n",
       "</table>\n",
       "</div>"
      ],
      "text/plain": [
       "                       TRANSAKT                                 PRISENHED  \\\n",
       "0  B.1*g Gross domestic product  Period-to-period real growth (per cent)    \n",
       "1  B.1*g Gross domestic product  Period-to-period real growth (per cent)    \n",
       "2  B.1*g Gross domestic product  Period-to-period real growth (per cent)    \n",
       "3  B.1*g Gross domestic product  Period-to-period real growth (per cent)    \n",
       "4  B.1*g Gross domestic product  Period-to-period real growth (per cent)    \n",
       "\n",
       "    TID INDHOLD  \n",
       "0  1979     3.9  \n",
       "1  2022     2.7  \n",
       "2  2005     2.3  \n",
       "3  1985     4.0  \n",
       "4  1991     1.4  "
      ]
     },
     "execution_count": 4,
     "metadata": {},
     "output_type": "execute_result"
    }
   ],
   "source": [
    "from dataproject import*\n",
    "BNP = data_NAN1()\n",
    "BNP.head()"
   ]
  },
  {
   "cell_type": "code",
   "execution_count": 5,
   "metadata": {},
   "outputs": [
    {
     "data": {
      "text/html": [
       "<div>\n",
       "<style scoped>\n",
       "    .dataframe tbody tr th:only-of-type {\n",
       "        vertical-align: middle;\n",
       "    }\n",
       "\n",
       "    .dataframe tbody tr th {\n",
       "        vertical-align: top;\n",
       "    }\n",
       "\n",
       "    .dataframe thead th {\n",
       "        text-align: right;\n",
       "    }\n",
       "</style>\n",
       "<table border=\"1\" class=\"dataframe\">\n",
       "  <thead>\n",
       "    <tr style=\"text-align: right;\">\n",
       "      <th></th>\n",
       "      <th>TID</th>\n",
       "      <th>g</th>\n",
       "    </tr>\n",
       "  </thead>\n",
       "  <tbody>\n",
       "    <tr>\n",
       "      <th>48</th>\n",
       "      <td>1967</td>\n",
       "      <td>5.5</td>\n",
       "    </tr>\n",
       "    <tr>\n",
       "      <th>55</th>\n",
       "      <td>1968</td>\n",
       "      <td>5.6</td>\n",
       "    </tr>\n",
       "    <tr>\n",
       "      <th>17</th>\n",
       "      <td>1969</td>\n",
       "      <td>6.5</td>\n",
       "    </tr>\n",
       "    <tr>\n",
       "      <th>26</th>\n",
       "      <td>1970</td>\n",
       "      <td>1.6</td>\n",
       "    </tr>\n",
       "    <tr>\n",
       "      <th>53</th>\n",
       "      <td>1971</td>\n",
       "      <td>3.0</td>\n",
       "    </tr>\n",
       "  </tbody>\n",
       "</table>\n",
       "</div>"
      ],
      "text/plain": [
       "     TID    g\n",
       "48  1967  5.5\n",
       "55  1968  5.6\n",
       "17  1969  6.5\n",
       "26  1970  1.6\n",
       "53  1971  3.0"
      ]
     },
     "execution_count": 5,
     "metadata": {},
     "output_type": "execute_result"
    }
   ],
   "source": [
    "# Clean and rename dataset on GDP\n",
    "\n",
    "# a. drop the descriptive columns \"TRANSAKT\" and \"PRISENHED\"\n",
    "drop_these = ['TRANSAKT','PRISENHED']\n",
    "BNP.drop(drop_these, axis=1, inplace=True)\n",
    "\n",
    "# b. rename columns to more suitable variable names\n",
    "BNP.rename(columns = {'INDHOLD':'g'}, inplace=True)\n",
    "\n",
    "# c. drop missing entries\n",
    "I = BNP.loc[BNP.g == '..'] \n",
    "BNP.drop(I.index, inplace=True)\n",
    "\n",
    "# d. sort dataset by year\n",
    "BNP.sort_values(by = ['TID'], inplace=True)\n",
    "\n",
    "# e. convert all entries to float\n",
    "BNP['g'] = BNP['g'].astype('float')\n",
    "BNP.head()\n"
   ]
  },
  {
   "cell_type": "code",
   "execution_count": 6,
   "metadata": {},
   "outputs": [
    {
     "data": {
      "text/html": [
       "<div>\n",
       "<style scoped>\n",
       "    .dataframe tbody tr th:only-of-type {\n",
       "        vertical-align: middle;\n",
       "    }\n",
       "\n",
       "    .dataframe tbody tr th {\n",
       "        vertical-align: top;\n",
       "    }\n",
       "\n",
       "    .dataframe thead th {\n",
       "        text-align: right;\n",
       "    }\n",
       "</style>\n",
       "<table border=\"1\" class=\"dataframe\">\n",
       "  <thead>\n",
       "    <tr style=\"text-align: right;\">\n",
       "      <th></th>\n",
       "      <th>BEVÆGELSE</th>\n",
       "      <th>TID</th>\n",
       "      <th>INDHOLD</th>\n",
       "    </tr>\n",
       "  </thead>\n",
       "  <tbody>\n",
       "    <tr>\n",
       "      <th>0</th>\n",
       "      <td>Women  January  1. (in 1,000)</td>\n",
       "      <td>2000</td>\n",
       "      <td>2696</td>\n",
       "    </tr>\n",
       "    <tr>\n",
       "      <th>1</th>\n",
       "      <td>Total number of livebirths</td>\n",
       "      <td>2000</td>\n",
       "      <td>67084</td>\n",
       "    </tr>\n",
       "    <tr>\n",
       "      <th>2</th>\n",
       "      <td>Women  January  1. (in 1,000)</td>\n",
       "      <td>2001</td>\n",
       "      <td>2705</td>\n",
       "    </tr>\n",
       "    <tr>\n",
       "      <th>3</th>\n",
       "      <td>Total number of livebirths</td>\n",
       "      <td>2001</td>\n",
       "      <td>65458</td>\n",
       "    </tr>\n",
       "    <tr>\n",
       "      <th>4</th>\n",
       "      <td>Women  January  1. (in 1,000)</td>\n",
       "      <td>2002</td>\n",
       "      <td>2714</td>\n",
       "    </tr>\n",
       "  </tbody>\n",
       "</table>\n",
       "</div>"
      ],
      "text/plain": [
       "                       BEVÆGELSE   TID INDHOLD\n",
       "0  Women  January  1. (in 1,000)  2000    2696\n",
       "1     Total number of livebirths  2000   67084\n",
       "2  Women  January  1. (in 1,000)  2001    2705\n",
       "3     Total number of livebirths  2001   65458\n",
       "4  Women  January  1. (in 1,000)  2002    2714"
      ]
     },
     "execution_count": 6,
     "metadata": {},
     "output_type": "execute_result"
    }
   ],
   "source": [
    "HIS = data_HISB3()\n",
    "HIS.head()"
   ]
  },
  {
   "cell_type": "code",
   "execution_count": 7,
   "metadata": {},
   "outputs": [
    {
     "name": "stdout",
     "output_type": "stream",
     "text": [
      "                      BEVÆGELSE   TID births\n",
      "237  Total number of livebirths  1901  73219\n",
      "167  Total number of livebirths  1902  72839\n",
      "140  Total number of livebirths  1903  72351\n",
      "178  Total number of livebirths  1904  73692\n",
      "141  Total number of livebirths  1905  73082\n",
      "..                          ...   ...    ...\n",
      "67   Total number of livebirths  2020  60937\n",
      "41   Total number of livebirths  2021  63473\n",
      "33   Total number of livebirths  2022  58430\n",
      "53   Total number of livebirths  2023  57469\n",
      "35   Total number of livebirths  2024     ..\n",
      "\n",
      "[124 rows x 3 columns]\n"
     ]
    },
    {
     "name": "stderr",
     "output_type": "stream",
     "text": [
      "C:\\Users\\Lenovo\\AppData\\Local\\Temp\\ipykernel_32280\\2758457094.py:11: SettingWithCopyWarning: \n",
      "A value is trying to be set on a copy of a slice from a DataFrame\n",
      "\n",
      "See the caveats in the documentation: https://pandas.pydata.org/pandas-docs/stable/user_guide/indexing.html#returning-a-view-versus-a-copy\n",
      "  even.rename(columns={'INDHOLD':'births'}, inplace=True)\n",
      "C:\\Users\\Lenovo\\AppData\\Local\\Temp\\ipykernel_32280\\2758457094.py:15: SettingWithCopyWarning: \n",
      "A value is trying to be set on a copy of a slice from a DataFrame\n",
      "\n",
      "See the caveats in the documentation: https://pandas.pydata.org/pandas-docs/stable/user_guide/indexing.html#returning-a-view-versus-a-copy\n",
      "  odd.rename(columns = {'INDHOLD': 'women'}, inplace=True)\n"
     ]
    },
    {
     "data": {
      "text/html": [
       "<div>\n",
       "<style scoped>\n",
       "    .dataframe tbody tr th:only-of-type {\n",
       "        vertical-align: middle;\n",
       "    }\n",
       "\n",
       "    .dataframe tbody tr th {\n",
       "        vertical-align: top;\n",
       "    }\n",
       "\n",
       "    .dataframe thead th {\n",
       "        text-align: right;\n",
       "    }\n",
       "</style>\n",
       "<table border=\"1\" class=\"dataframe\">\n",
       "  <thead>\n",
       "    <tr style=\"text-align: right;\">\n",
       "      <th></th>\n",
       "      <th>TID</th>\n",
       "      <th>births</th>\n",
       "      <th>women</th>\n",
       "    </tr>\n",
       "  </thead>\n",
       "  <tbody>\n",
       "    <tr>\n",
       "      <th>0</th>\n",
       "      <td>1901</td>\n",
       "      <td>73219.0</td>\n",
       "      <td>1255.0</td>\n",
       "    </tr>\n",
       "    <tr>\n",
       "      <th>1</th>\n",
       "      <td>1902</td>\n",
       "      <td>72839.0</td>\n",
       "      <td>1271.0</td>\n",
       "    </tr>\n",
       "    <tr>\n",
       "      <th>2</th>\n",
       "      <td>1903</td>\n",
       "      <td>72351.0</td>\n",
       "      <td>1286.0</td>\n",
       "    </tr>\n",
       "    <tr>\n",
       "      <th>3</th>\n",
       "      <td>1904</td>\n",
       "      <td>73692.0</td>\n",
       "      <td>1300.0</td>\n",
       "    </tr>\n",
       "    <tr>\n",
       "      <th>4</th>\n",
       "      <td>1905</td>\n",
       "      <td>73082.0</td>\n",
       "      <td>1316.0</td>\n",
       "    </tr>\n",
       "  </tbody>\n",
       "</table>\n",
       "</div>"
      ],
      "text/plain": [
       "    TID   births   women\n",
       "0  1901  73219.0  1255.0\n",
       "1  1902  72839.0  1271.0\n",
       "2  1903  72351.0  1286.0\n",
       "3  1904  73692.0  1300.0\n",
       "4  1905  73082.0  1316.0"
      ]
     },
     "execution_count": 7,
     "metadata": {},
     "output_type": "execute_result"
    }
   ],
   "source": [
    "# clean and rename dataset on births and amount of women\n",
    "\n",
    "# a. sort dataset on year and variable\n",
    "HIS.sort_values(by = ['TID','BEVÆGELSE'], inplace=True)\n",
    "\n",
    "# b. create subsets of odd and even rows to separate births and amount of women\n",
    "even = HIS.iloc[::2]\n",
    "odd = HIS.iloc[1::2]\n",
    "\n",
    "# c. rename the column \"INDHOLD\" to births\n",
    "even.rename(columns={'INDHOLD':'births'}, inplace=True)\n",
    "print(even)\n",
    "\n",
    "# d. rename the column \"INDHOLD\" to women\n",
    "odd.rename(columns = {'INDHOLD': 'women'}, inplace=True)\n",
    "\n",
    "# e. merge the subsets on year\n",
    "res = pd.merge(even, odd, how='inner', on=['TID'])\n",
    "\n",
    "# f. drop descriptive columns\n",
    "drop = ['BEVÆGELSE_x', 'BEVÆGELSE_y']\n",
    "res.drop(drop,axis=1,inplace=True)\n",
    "\n",
    "# g. drop missing entries\n",
    "res = res.dropna()\n",
    "I = res.loc[res.births == '..'] \n",
    "res.drop(I.index, inplace=True)\n",
    "I_2 = res.loc[res.women == '..'] \n",
    "res.drop(I_2.index, inplace=True)\n",
    "\n",
    "# h. convert entry type to float\n",
    "res['births'] = res['births'].astype('float')\n",
    "res['women'] = res['women'].astype('float')\n",
    "\n",
    "res.head()\n"
   ]
  },
  {
   "cell_type": "code",
   "execution_count": 33,
   "metadata": {},
   "outputs": [
    {
     "data": {
      "text/html": [
       "<div>\n",
       "<style scoped>\n",
       "    .dataframe tbody tr th:only-of-type {\n",
       "        vertical-align: middle;\n",
       "    }\n",
       "\n",
       "    .dataframe tbody tr th {\n",
       "        vertical-align: top;\n",
       "    }\n",
       "\n",
       "    .dataframe thead th {\n",
       "        text-align: right;\n",
       "    }\n",
       "</style>\n",
       "<table border=\"1\" class=\"dataframe\">\n",
       "  <thead>\n",
       "    <tr style=\"text-align: right;\">\n",
       "      <th></th>\n",
       "      <th>TID</th>\n",
       "      <th>births</th>\n",
       "      <th>women</th>\n",
       "      <th>fertility</th>\n",
       "      <th>rate</th>\n",
       "    </tr>\n",
       "  </thead>\n",
       "  <tbody>\n",
       "    <tr>\n",
       "      <th>7</th>\n",
       "      <td>1908</td>\n",
       "      <td>76233.0</td>\n",
       "      <td>1364.0</td>\n",
       "      <td>55.889296</td>\n",
       "      <td>0.013653</td>\n",
       "    </tr>\n",
       "    <tr>\n",
       "      <th>8</th>\n",
       "      <td>1909</td>\n",
       "      <td>76301.0</td>\n",
       "      <td>1382.0</td>\n",
       "      <td>55.210564</td>\n",
       "      <td>-0.012144</td>\n",
       "    </tr>\n",
       "    <tr>\n",
       "      <th>9</th>\n",
       "      <td>1910</td>\n",
       "      <td>75299.0</td>\n",
       "      <td>1400.0</td>\n",
       "      <td>53.785000</td>\n",
       "      <td>-0.025821</td>\n",
       "    </tr>\n",
       "    <tr>\n",
       "      <th>10</th>\n",
       "      <td>1911</td>\n",
       "      <td>73933.0</td>\n",
       "      <td>1419.0</td>\n",
       "      <td>52.102185</td>\n",
       "      <td>-0.031288</td>\n",
       "    </tr>\n",
       "    <tr>\n",
       "      <th>11</th>\n",
       "      <td>1912</td>\n",
       "      <td>74659.0</td>\n",
       "      <td>1436.0</td>\n",
       "      <td>51.990947</td>\n",
       "      <td>-0.002135</td>\n",
       "    </tr>\n",
       "  </tbody>\n",
       "</table>\n",
       "</div>"
      ],
      "text/plain": [
       "     TID   births   women  fertility      rate\n",
       "7   1908  76233.0  1364.0  55.889296  0.013653\n",
       "8   1909  76301.0  1382.0  55.210564 -0.012144\n",
       "9   1910  75299.0  1400.0  53.785000 -0.025821\n",
       "10  1911  73933.0  1419.0  52.102185 -0.031288\n",
       "11  1912  74659.0  1436.0  51.990947 -0.002135"
      ]
     },
     "execution_count": 33,
     "metadata": {},
     "output_type": "execute_result"
    }
   ],
   "source": [
    "# a. calculate fertility as births per 1000 women in a new column\n",
    "res['fertility'] = res['births']/res['women']\n",
    "\n",
    "# b. calculate yearly change in fertility in a new column\n",
    "res['rate'] = res['fertility'].pct_change()\n",
    "\n",
    "# remove NaN\n",
    "res = res.dropna() \n",
    "res.head()"
   ]
  },
  {
   "cell_type": "code",
   "execution_count": 34,
   "metadata": {},
   "outputs": [
    {
     "data": {
      "text/html": [
       "<div>\n",
       "<style scoped>\n",
       "    .dataframe tbody tr th:only-of-type {\n",
       "        vertical-align: middle;\n",
       "    }\n",
       "\n",
       "    .dataframe tbody tr th {\n",
       "        vertical-align: top;\n",
       "    }\n",
       "\n",
       "    .dataframe thead th {\n",
       "        text-align: right;\n",
       "    }\n",
       "</style>\n",
       "<table border=\"1\" class=\"dataframe\">\n",
       "  <thead>\n",
       "    <tr style=\"text-align: right;\">\n",
       "      <th></th>\n",
       "      <th>births</th>\n",
       "      <th>women</th>\n",
       "      <th>fertility</th>\n",
       "      <th>rate</th>\n",
       "      <th>g</th>\n",
       "    </tr>\n",
       "    <tr>\n",
       "      <th>TID</th>\n",
       "      <th></th>\n",
       "      <th></th>\n",
       "      <th></th>\n",
       "      <th></th>\n",
       "      <th></th>\n",
       "    </tr>\n",
       "  </thead>\n",
       "  <tbody>\n",
       "    <tr>\n",
       "      <th>2019</th>\n",
       "      <td>61167.0</td>\n",
       "      <td>2917.0</td>\n",
       "      <td>20.969146</td>\n",
       "      <td>-0.009119</td>\n",
       "      <td>1.5</td>\n",
       "    </tr>\n",
       "    <tr>\n",
       "      <th>2020</th>\n",
       "      <td>60937.0</td>\n",
       "      <td>2926.0</td>\n",
       "      <td>20.826042</td>\n",
       "      <td>-0.006825</td>\n",
       "      <td>-2.4</td>\n",
       "    </tr>\n",
       "    <tr>\n",
       "      <th>2021</th>\n",
       "      <td>63473.0</td>\n",
       "      <td>2935.0</td>\n",
       "      <td>21.626235</td>\n",
       "      <td>0.038423</td>\n",
       "      <td>6.8</td>\n",
       "    </tr>\n",
       "    <tr>\n",
       "      <th>2022</th>\n",
       "      <td>58430.0</td>\n",
       "      <td>2951.0</td>\n",
       "      <td>19.800068</td>\n",
       "      <td>-0.084442</td>\n",
       "      <td>2.7</td>\n",
       "    </tr>\n",
       "    <tr>\n",
       "      <th>2023</th>\n",
       "      <td>57469.0</td>\n",
       "      <td>2984.0</td>\n",
       "      <td>19.259048</td>\n",
       "      <td>-0.027324</td>\n",
       "      <td>1.9</td>\n",
       "    </tr>\n",
       "  </tbody>\n",
       "</table>\n",
       "</div>"
      ],
      "text/plain": [
       "       births   women  fertility      rate    g\n",
       "TID                                            \n",
       "2019  61167.0  2917.0  20.969146 -0.009119  1.5\n",
       "2020  60937.0  2926.0  20.826042 -0.006825 -2.4\n",
       "2021  63473.0  2935.0  21.626235  0.038423  6.8\n",
       "2022  58430.0  2951.0  19.800068 -0.084442  2.7\n",
       "2023  57469.0  2984.0  19.259048 -0.027324  1.9"
      ]
     },
     "execution_count": 34,
     "metadata": {},
     "output_type": "execute_result"
    }
   ],
   "source": [
    "#join the two datasets\n",
    "\n",
    "# a. merge on year\n",
    "inner = pd.merge(res,BNP, how = 'inner', on = ['TID'])\n",
    "\n",
    "# set index to year instead of 0, 1 ...\n",
    "inner = inner.set_index('TID')\n",
    "inner.tail()"
   ]
  },
  {
   "cell_type": "code",
   "execution_count": 55,
   "metadata": {},
   "outputs": [
    {
     "data": {
      "image/png": "[encoded data removed]",
      "text/plain": [
       "<Figure size 1000x500 with 2 Axes>"
      ]
     },
     "metadata": {},
     "output_type": "display_data"
    }
   ],
   "source": [
    "# Plot the data\n",
    "fig, ax1 = plt.subplots(figsize=(10, 5))\n",
    "\n",
    "# a. Plot GDP growth on the primary y-axis\n",
    "ax1.plot(inner.index, inner['g'], color='b', label='GDP growth')\n",
    "ax1.set_xlabel('Year')\n",
    "ax1.set_ylabel('Pct.', color='b')\n",
    "\n",
    "# b. Create a secondary y-axis and plot fertility\n",
    "ax2 = ax1.twinx()  \n",
    "ax2.plot(inner.index, inner['rate'], color='r', label='yearly change in births per 1000 women')\n",
    "ax2.set_ylabel('Pct.', color='r')\n",
    "\n",
    "# c. Add legend\n",
    "lines, labels = ax1.get_legend_handles_labels()\n",
    "lines2, labels2 = ax2.get_legend_handles_labels()\n",
    "ax1.legend(lines + lines2, labels + labels2, loc = 'lower left')\n",
    "\n",
    "# d. Add title\n",
    "plt.title('Yearly changes in fertility and GDP 1967-2023')\n",
    "\n",
    "# e. Align y-axes\n",
    "mpl_axes_aligner.align.yaxes(ax1, 0, ax2, 0, 0.5)\n",
    "\n",
    "# f. Add line through 0\n",
    "ax1.axhline(0, linewidth=0.5, color='black', linestyle='--')\n",
    "\n",
    "fig.tight_layout()\n",
    "\n",
    "# Show plot\n",
    "plt.show()"
   ]
  },
  {
   "cell_type": "markdown",
   "metadata": {},
   "source": [
    "# Read and clean data"
   ]
  },
  {
   "cell_type": "markdown",
   "metadata": {},
   "source": [
    "Import your data, either through an API or manually, and load it. "
   ]
  },
  {
   "cell_type": "markdown",
   "metadata": {},
   "source": [
    "## Explore each data set"
   ]
  },
  {
   "cell_type": "markdown",
   "metadata": {},
   "source": [
    "In order to be able to **explore the raw data**, you may provide **static** and **interactive plots** to show important developments "
   ]
  },
  {
   "cell_type": "markdown",
   "metadata": {},
   "source": [
    "**Interactive plot** :"
   ]
  },
  {
   "cell_type": "code",
   "execution_count": 11,
   "metadata": {},
   "outputs": [
    {
     "data": {
      "application/vnd.jupyter.widget-view+json": {
       "model_id": "e8c3ae6293f14544a8a05a65ebb835ee",
       "version_major": 2,
       "version_minor": 0
      },
      "text/plain": [
       "interactive(children=(Output(),), _dom_classes=('widget-interact',))"
      ]
     },
     "metadata": {},
     "output_type": "display_data"
    }
   ],
   "source": [
    "def plot_func():\n",
    "    # Function that operates on data set\n",
    "    pass\n",
    "\n",
    "widgets.interact(plot_func, \n",
    "    # Let the widget interact with data through plot_func()    \n",
    "); \n"
   ]
  },
  {
   "cell_type": "markdown",
   "metadata": {},
   "source": [
    "Explain what you see when moving elements of the interactive plot around. "
   ]
  },
  {
   "cell_type": "markdown",
   "metadata": {},
   "source": [
    "# Merge data sets"
   ]
  },
  {
   "cell_type": "markdown",
   "metadata": {},
   "source": [
    "Now you create combinations of your loaded data sets. Remember the illustration of a (inner) **merge**:"
   ]
  },
  {
   "cell_type": "code",
   "execution_count": 12,
   "metadata": {},
   "outputs": [
    {
     "ename": "NameError",
     "evalue": "name 'venn2' is not defined",
     "output_type": "error",
     "traceback": [
      "\u001b[1;31m---------------------------------------------------------------------------\u001b[0m",
      "\u001b[1;31mNameError\u001b[0m                                 Traceback (most recent call last)",
      "Cell \u001b[1;32mIn[12], line 2\u001b[0m\n\u001b[0;32m      1\u001b[0m plt\u001b[38;5;241m.\u001b[39mfigure(figsize\u001b[38;5;241m=\u001b[39m(\u001b[38;5;241m15\u001b[39m,\u001b[38;5;241m7\u001b[39m))\n\u001b[1;32m----> 2\u001b[0m v \u001b[38;5;241m=\u001b[39m venn2(subsets \u001b[38;5;241m=\u001b[39m (\u001b[38;5;241m4\u001b[39m, \u001b[38;5;241m4\u001b[39m, \u001b[38;5;241m10\u001b[39m), set_labels \u001b[38;5;241m=\u001b[39m (\u001b[38;5;124m'\u001b[39m\u001b[38;5;124mData X\u001b[39m\u001b[38;5;124m'\u001b[39m, \u001b[38;5;124m'\u001b[39m\u001b[38;5;124mData Y\u001b[39m\u001b[38;5;124m'\u001b[39m))\n\u001b[0;32m      3\u001b[0m v\u001b[38;5;241m.\u001b[39mget_label_by_id(\u001b[38;5;124m'\u001b[39m\u001b[38;5;124m100\u001b[39m\u001b[38;5;124m'\u001b[39m)\u001b[38;5;241m.\u001b[39mset_text(\u001b[38;5;124m'\u001b[39m\u001b[38;5;124mdropped\u001b[39m\u001b[38;5;124m'\u001b[39m)\n\u001b[0;32m      4\u001b[0m v\u001b[38;5;241m.\u001b[39mget_label_by_id(\u001b[38;5;124m'\u001b[39m\u001b[38;5;124m010\u001b[39m\u001b[38;5;124m'\u001b[39m)\u001b[38;5;241m.\u001b[39mset_text(\u001b[38;5;124m'\u001b[39m\u001b[38;5;124mdropped\u001b[39m\u001b[38;5;124m'\u001b[39m )\n",
      "\u001b[1;31mNameError\u001b[0m: name 'venn2' is not defined"
     ]
    },
    {
     "data": {
      "text/plain": [
       "<Figure size 1500x700 with 0 Axes>"
      ]
     },
     "metadata": {},
     "output_type": "display_data"
    }
   ],
   "source": [
    "plt.figure(figsize=(15,7))\n",
    "v = venn2(subsets = (4, 4, 10), set_labels = ('Data X', 'Data Y'))\n",
    "v.get_label_by_id('100').set_text('dropped')\n",
    "v.get_label_by_id('010').set_text('dropped' )\n",
    "v.get_label_by_id('110').set_text('included')\n",
    "plt.show()"
   ]
  },
  {
   "cell_type": "markdown",
   "metadata": {},
   "source": [
    "Here we are dropping elements from both data set X and data set Y. A left join would keep all observations in data X intact and subset only from Y. \n",
    "\n",
    "Make sure that your resulting data sets have the correct number of rows and columns. That is, be clear about which observations are thrown away. \n",
    "\n",
    "**Note:** Don't make Venn diagrams in your own data project. It is just for exposition. "
   ]
  },
  {
   "cell_type": "markdown",
   "metadata": {},
   "source": [
    "# Analysis"
   ]
  },
  {
   "cell_type": "markdown",
   "metadata": {},
   "source": [
    "To get a quick overview of the data, we show some **summary statistics** on a meaningful aggregation. "
   ]
  },
  {
   "cell_type": "markdown",
   "metadata": {},
   "source": [
    "MAKE FURTHER ANALYSIS. EXPLAIN THE CODE BRIEFLY AND SUMMARIZE THE RESULTS."
   ]
  },
  {
   "cell_type": "markdown",
   "metadata": {},
   "source": [
    "# Conclusion"
   ]
  },
  {
   "cell_type": "markdown",
   "metadata": {},
   "source": [
    "ADD CONCISE CONLUSION."
   ]
  }
 ],
 "metadata": {
  "kernelspec": {
   "display_name": "base",
   "language": "python",
   "name": "python3"
  },
  "language_info": {
   "codemirror_mode": {
    "name": "ipython",
    "version": 3
   },
   "file_extension": ".py",
   "mimetype": "text/x-python",
   "name": "python",
   "nbconvert_exporter": "python",
   "pygments_lexer": "ipython3",
   "version": "3.11.5"
  },
  "toc-autonumbering": true,
  "vscode": {
   "interpreter": {
    "hash": "47ef90cdf3004d3f859f1fb202523c65c07ba7c22eefd261b181f4744e2d0403"
   }
  }
 },
 "nbformat": 4,
 "nbformat_minor": 4
}
