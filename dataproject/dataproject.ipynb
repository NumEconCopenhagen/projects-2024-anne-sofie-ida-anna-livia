{
 "cells": [
  {
   "cell_type": "markdown",
   "metadata": {},
   "source": [
    "# An Investigation of Danish Fertility"
   ]
  },
  {
   "cell_type": "markdown",
   "metadata": {},
   "source": [
    "In the recent years, danish policymakers have expressed concern for the state of the national fertility rates. According to the danish newspaper Berlingske, a danish woman would in 2022 on average give birth to 1,55 children (see [this website](https://www.berlingske.dk/samfund/foedselsraten-falder-i-naesten-alle-landsdele-koebenhavn-er-blandt-de)). \n",
    "To sustain the population size without taking immigration into consideration, a woman would need to give birth to 2,1 children. It is of great economical interest why the fertility rates are declining, and policy makers are already introducing measures to deal with the decline. In her new years speech, the prime mininister adressed to the nation that extra rounds of fertility treatment would become accessible for free for danish women in the forthcoming year. In this project, we investigate the decline in fertility and potential factors influencing it.\n"
   ]
  },
  {
   "cell_type": "code",
   "execution_count": 14,
   "metadata": {},
   "outputs": [
    {
     "name": "stdout",
     "output_type": "stream",
     "text": [
      "The autoreload extension is already loaded. To reload it, use:\n",
      "  %reload_ext autoreload\n"
     ]
    }
   ],
   "source": [
    "# Import of relevant packages\n",
    "import pandas as pd\n",
    "import numpy as np\n",
    "import matplotlib.pyplot as plt\n",
    "import ipywidgets as widgets\n",
    "import mpl_axes_aligner\n",
    "\n",
    "# Autoreload modules when code is run\n",
    "%load_ext autoreload\n",
    "%autoreload 2\n",
    "\n",
    "# User written modules\n",
    "import dataproject\n",
    "\n",
    "# API's\n",
    "from IPython.display import display\n",
    "import requests\n",
    "from dstapi import DstApi"
   ]
  },
  {
   "cell_type": "markdown",
   "metadata": {},
   "source": [
    "# Development in GDP and fertility rate"
   ]
  },
  {
   "cell_type": "markdown",
   "metadata": {},
   "source": [
    "We use data from Statistics Denmark, specifically the two datasets NAN1 and HISB3. We import the relevant variables from these datasets using an API."
   ]
  },
  {
   "cell_type": "markdown",
   "metadata": {},
   "source": [
    "From NAN1 we import data on yearly growth in GDP from 1966 to 2023. "
   ]
  },
  {
   "cell_type": "code",
   "execution_count": 15,
   "metadata": {},
   "outputs": [
    {
     "data": {
      "text/html": [
       "<div>\n",
       "<style scoped>\n",
       "    .dataframe tbody tr th:only-of-type {\n",
       "        vertical-align: middle;\n",
       "    }\n",
       "\n",
       "    .dataframe tbody tr th {\n",
       "        vertical-align: top;\n",
       "    }\n",
       "\n",
       "    .dataframe thead th {\n",
       "        text-align: right;\n",
       "    }\n",
       "</style>\n",
       "<table border=\"1\" class=\"dataframe\">\n",
       "  <thead>\n",
       "    <tr style=\"text-align: right;\">\n",
       "      <th></th>\n",
       "      <th>TRANSAKT</th>\n",
       "      <th>PRISENHED</th>\n",
       "      <th>TID</th>\n",
       "      <th>INDHOLD</th>\n",
       "    </tr>\n",
       "  </thead>\n",
       "  <tbody>\n",
       "    <tr>\n",
       "      <th>0</th>\n",
       "      <td>B.1*g Gross domestic product</td>\n",
       "      <td>Period-to-period real growth (per cent)</td>\n",
       "      <td>1979</td>\n",
       "      <td>3.9</td>\n",
       "    </tr>\n",
       "    <tr>\n",
       "      <th>1</th>\n",
       "      <td>B.1*g Gross domestic product</td>\n",
       "      <td>Period-to-period real growth (per cent)</td>\n",
       "      <td>2022</td>\n",
       "      <td>2.7</td>\n",
       "    </tr>\n",
       "    <tr>\n",
       "      <th>2</th>\n",
       "      <td>B.1*g Gross domestic product</td>\n",
       "      <td>Period-to-period real growth (per cent)</td>\n",
       "      <td>2005</td>\n",
       "      <td>2.3</td>\n",
       "    </tr>\n",
       "    <tr>\n",
       "      <th>3</th>\n",
       "      <td>B.1*g Gross domestic product</td>\n",
       "      <td>Period-to-period real growth (per cent)</td>\n",
       "      <td>1985</td>\n",
       "      <td>4.0</td>\n",
       "    </tr>\n",
       "    <tr>\n",
       "      <th>4</th>\n",
       "      <td>B.1*g Gross domestic product</td>\n",
       "      <td>Period-to-period real growth (per cent)</td>\n",
       "      <td>1991</td>\n",
       "      <td>1.4</td>\n",
       "    </tr>\n",
       "  </tbody>\n",
       "</table>\n",
       "</div>"
      ],
      "text/plain": [
       "                       TRANSAKT                                 PRISENHED  \\\n",
       "0  B.1*g Gross domestic product  Period-to-period real growth (per cent)    \n",
       "1  B.1*g Gross domestic product  Period-to-period real growth (per cent)    \n",
       "2  B.1*g Gross domestic product  Period-to-period real growth (per cent)    \n",
       "3  B.1*g Gross domestic product  Period-to-period real growth (per cent)    \n",
       "4  B.1*g Gross domestic product  Period-to-period real growth (per cent)    \n",
       "\n",
       "    TID INDHOLD  \n",
       "0  1979     3.9  \n",
       "1  2022     2.7  \n",
       "2  2005     2.3  \n",
       "3  1985     4.0  \n",
       "4  1991     1.4  "
      ]
     },
     "execution_count": 15,
     "metadata": {},
     "output_type": "execute_result"
    }
   ],
   "source": [
    "from dataproject import*\n",
    "BNP = data_NAN1()\n",
    "\n",
    "# How is data structured?\n",
    "BNP.head()"
   ]
  },
  {
   "cell_type": "code",
   "execution_count": 16,
   "metadata": {},
   "outputs": [
    {
     "data": {
      "text/html": [
       "<div>\n",
       "<style scoped>\n",
       "    .dataframe tbody tr th:only-of-type {\n",
       "        vertical-align: middle;\n",
       "    }\n",
       "\n",
       "    .dataframe tbody tr th {\n",
       "        vertical-align: top;\n",
       "    }\n",
       "\n",
       "    .dataframe thead th {\n",
       "        text-align: right;\n",
       "    }\n",
       "</style>\n",
       "<table border=\"1\" class=\"dataframe\">\n",
       "  <thead>\n",
       "    <tr style=\"text-align: right;\">\n",
       "      <th></th>\n",
       "      <th>year</th>\n",
       "      <th>growth</th>\n",
       "    </tr>\n",
       "  </thead>\n",
       "  <tbody>\n",
       "    <tr>\n",
       "      <th>41</th>\n",
       "      <td>1967</td>\n",
       "      <td>5.5</td>\n",
       "    </tr>\n",
       "    <tr>\n",
       "      <th>51</th>\n",
       "      <td>1968</td>\n",
       "      <td>5.6</td>\n",
       "    </tr>\n",
       "    <tr>\n",
       "      <th>29</th>\n",
       "      <td>1969</td>\n",
       "      <td>6.5</td>\n",
       "    </tr>\n",
       "    <tr>\n",
       "      <th>12</th>\n",
       "      <td>1970</td>\n",
       "      <td>1.6</td>\n",
       "    </tr>\n",
       "    <tr>\n",
       "      <th>49</th>\n",
       "      <td>1971</td>\n",
       "      <td>3.0</td>\n",
       "    </tr>\n",
       "  </tbody>\n",
       "</table>\n",
       "</div>"
      ],
      "text/plain": [
       "    year  growth\n",
       "41  1967     5.5\n",
       "51  1968     5.6\n",
       "29  1969     6.5\n",
       "12  1970     1.6\n",
       "49  1971     3.0"
      ]
     },
     "execution_count": 16,
     "metadata": {},
     "output_type": "execute_result"
    }
   ],
   "source": [
    "# Cleaning data \n",
    "BNP = clean_NAN1()\n",
    "\n",
    "# Checking cleaning went well \n",
    "BNP.head()"
   ]
  },
  {
   "cell_type": "markdown",
   "metadata": {},
   "source": [
    "From HISB3 we import data on number of women and number of livebirths from 1901 to 2023."
   ]
  },
  {
   "cell_type": "code",
   "execution_count": 17,
   "metadata": {},
   "outputs": [
    {
     "data": {
      "text/html": [
       "<div>\n",
       "<style scoped>\n",
       "    .dataframe tbody tr th:only-of-type {\n",
       "        vertical-align: middle;\n",
       "    }\n",
       "\n",
       "    .dataframe tbody tr th {\n",
       "        vertical-align: top;\n",
       "    }\n",
       "\n",
       "    .dataframe thead th {\n",
       "        text-align: right;\n",
       "    }\n",
       "</style>\n",
       "<table border=\"1\" class=\"dataframe\">\n",
       "  <thead>\n",
       "    <tr style=\"text-align: right;\">\n",
       "      <th></th>\n",
       "      <th>BEVÆGELSE</th>\n",
       "      <th>TID</th>\n",
       "      <th>INDHOLD</th>\n",
       "    </tr>\n",
       "  </thead>\n",
       "  <tbody>\n",
       "    <tr>\n",
       "      <th>0</th>\n",
       "      <td>Women  January  1. (in 1,000)</td>\n",
       "      <td>1996</td>\n",
       "      <td>2659</td>\n",
       "    </tr>\n",
       "    <tr>\n",
       "      <th>1</th>\n",
       "      <td>Total number of livebirths</td>\n",
       "      <td>1996</td>\n",
       "      <td>67638</td>\n",
       "    </tr>\n",
       "    <tr>\n",
       "      <th>2</th>\n",
       "      <td>Women  January  1. (in 1,000)</td>\n",
       "      <td>1989</td>\n",
       "      <td>2602</td>\n",
       "    </tr>\n",
       "    <tr>\n",
       "      <th>3</th>\n",
       "      <td>Total number of livebirths</td>\n",
       "      <td>1989</td>\n",
       "      <td>61351</td>\n",
       "    </tr>\n",
       "    <tr>\n",
       "      <th>4</th>\n",
       "      <td>Women  January  1. (in 1,000)</td>\n",
       "      <td>1992</td>\n",
       "      <td>2618</td>\n",
       "    </tr>\n",
       "  </tbody>\n",
       "</table>\n",
       "</div>"
      ],
      "text/plain": [
       "                       BEVÆGELSE   TID INDHOLD\n",
       "0  Women  January  1. (in 1,000)  1996    2659\n",
       "1     Total number of livebirths  1996   67638\n",
       "2  Women  January  1. (in 1,000)  1989    2602\n",
       "3     Total number of livebirths  1989   61351\n",
       "4  Women  January  1. (in 1,000)  1992    2618"
      ]
     },
     "execution_count": 17,
     "metadata": {},
     "output_type": "execute_result"
    }
   ],
   "source": [
    "# Load the data.\n",
    "HIS = data_HISB3()\n",
    "\n",
    "# How is data structured?\n",
    "HIS.head()"
   ]
  },
  {
   "cell_type": "code",
   "execution_count": 18,
   "metadata": {},
   "outputs": [
    {
     "data": {
      "text/html": [
       "<div>\n",
       "<style scoped>\n",
       "    .dataframe tbody tr th:only-of-type {\n",
       "        vertical-align: middle;\n",
       "    }\n",
       "\n",
       "    .dataframe tbody tr th {\n",
       "        vertical-align: top;\n",
       "    }\n",
       "\n",
       "    .dataframe thead th {\n",
       "        text-align: right;\n",
       "    }\n",
       "</style>\n",
       "<table border=\"1\" class=\"dataframe\">\n",
       "  <thead>\n",
       "    <tr style=\"text-align: right;\">\n",
       "      <th></th>\n",
       "      <th>year</th>\n",
       "      <th>births</th>\n",
       "      <th>women</th>\n",
       "    </tr>\n",
       "  </thead>\n",
       "  <tbody>\n",
       "    <tr>\n",
       "      <th>0</th>\n",
       "      <td>1901</td>\n",
       "      <td>73219.0</td>\n",
       "      <td>1255.0</td>\n",
       "    </tr>\n",
       "    <tr>\n",
       "      <th>1</th>\n",
       "      <td>1902</td>\n",
       "      <td>72839.0</td>\n",
       "      <td>1271.0</td>\n",
       "    </tr>\n",
       "    <tr>\n",
       "      <th>2</th>\n",
       "      <td>1903</td>\n",
       "      <td>72351.0</td>\n",
       "      <td>1286.0</td>\n",
       "    </tr>\n",
       "    <tr>\n",
       "      <th>3</th>\n",
       "      <td>1904</td>\n",
       "      <td>73692.0</td>\n",
       "      <td>1300.0</td>\n",
       "    </tr>\n",
       "    <tr>\n",
       "      <th>4</th>\n",
       "      <td>1905</td>\n",
       "      <td>73082.0</td>\n",
       "      <td>1316.0</td>\n",
       "    </tr>\n",
       "  </tbody>\n",
       "</table>\n",
       "</div>"
      ],
      "text/plain": [
       "   year   births   women\n",
       "0  1901  73219.0  1255.0\n",
       "1  1902  72839.0  1271.0\n",
       "2  1903  72351.0  1286.0\n",
       "3  1904  73692.0  1300.0\n",
       "4  1905  73082.0  1316.0"
      ]
     },
     "execution_count": 18,
     "metadata": {},
     "output_type": "execute_result"
    }
   ],
   "source": [
    "# Cleaning data \n",
    "fertility = clean_HISB3()\n",
    "\n",
    "# Chekcing everything went well\n",
    "fertility.head()"
   ]
  },
  {
   "cell_type": "markdown",
   "metadata": {},
   "source": [
    "We calculate the crude birth rate and the year-in-yean percentage change. "
   ]
  },
  {
   "cell_type": "code",
   "execution_count": 19,
   "metadata": {},
   "outputs": [
    {
     "data": {
      "text/html": [
       "<div>\n",
       "<style scoped>\n",
       "    .dataframe tbody tr th:only-of-type {\n",
       "        vertical-align: middle;\n",
       "    }\n",
       "\n",
       "    .dataframe tbody tr th {\n",
       "        vertical-align: top;\n",
       "    }\n",
       "\n",
       "    .dataframe thead th {\n",
       "        text-align: right;\n",
       "    }\n",
       "</style>\n",
       "<table border=\"1\" class=\"dataframe\">\n",
       "  <thead>\n",
       "    <tr style=\"text-align: right;\">\n",
       "      <th></th>\n",
       "      <th>year</th>\n",
       "      <th>births</th>\n",
       "      <th>women</th>\n",
       "      <th>fertility</th>\n",
       "      <th>rate</th>\n",
       "    </tr>\n",
       "  </thead>\n",
       "  <tbody>\n",
       "    <tr>\n",
       "      <th>1</th>\n",
       "      <td>1902</td>\n",
       "      <td>72839.0</td>\n",
       "      <td>1271.0</td>\n",
       "      <td>57.308419</td>\n",
       "      <td>-0.017713</td>\n",
       "    </tr>\n",
       "    <tr>\n",
       "      <th>2</th>\n",
       "      <td>1903</td>\n",
       "      <td>72351.0</td>\n",
       "      <td>1286.0</td>\n",
       "      <td>56.260498</td>\n",
       "      <td>-0.018286</td>\n",
       "    </tr>\n",
       "    <tr>\n",
       "      <th>3</th>\n",
       "      <td>1904</td>\n",
       "      <td>73692.0</td>\n",
       "      <td>1300.0</td>\n",
       "      <td>56.686154</td>\n",
       "      <td>0.007566</td>\n",
       "    </tr>\n",
       "    <tr>\n",
       "      <th>4</th>\n",
       "      <td>1905</td>\n",
       "      <td>73082.0</td>\n",
       "      <td>1316.0</td>\n",
       "      <td>55.533435</td>\n",
       "      <td>-0.020335</td>\n",
       "    </tr>\n",
       "    <tr>\n",
       "      <th>5</th>\n",
       "      <td>1906</td>\n",
       "      <td>74217.0</td>\n",
       "      <td>1331.0</td>\n",
       "      <td>55.760331</td>\n",
       "      <td>0.004086</td>\n",
       "    </tr>\n",
       "  </tbody>\n",
       "</table>\n",
       "</div>"
      ],
      "text/plain": [
       "   year   births   women  fertility      rate\n",
       "1  1902  72839.0  1271.0  57.308419 -0.017713\n",
       "2  1903  72351.0  1286.0  56.260498 -0.018286\n",
       "3  1904  73692.0  1300.0  56.686154  0.007566\n",
       "4  1905  73082.0  1316.0  55.533435 -0.020335\n",
       "5  1906  74217.0  1331.0  55.760331  0.004086"
      ]
     },
     "execution_count": 19,
     "metadata": {},
     "output_type": "execute_result"
    }
   ],
   "source": [
    "# Calculate fertility as births per 1000 women in a new column\n",
    "fertility['fertility'] = fertility['births']/fertility['women']\n",
    "\n",
    "# Calculate yearly change in fertility in a new column\n",
    "fertility['rate'] = fertility['fertility'].pct_change()\n",
    "\n",
    "# Remove NaN\n",
    "fertility = fertility.dropna() \n",
    "fertility.head()"
   ]
  },
  {
   "cell_type": "markdown",
   "metadata": {},
   "source": [
    "# Crude fertility rate, 1900-2023"
   ]
  },
  {
   "cell_type": "code",
   "execution_count": 20,
   "metadata": {},
   "outputs": [
    {
     "data": {
      "image/png": "[encoded data removed]",
      "text/plain": [
       "<Figure size 1000x500 with 1 Axes>"
      ]
     },
     "metadata": {},
     "output_type": "display_data"
    }
   ],
   "source": [
    "# Plot data\n",
    "fig, ax1 = plt.subplots(figsize=(10,5))\n",
    "\n",
    "ax1.plot(fertility['year'], fertility['fertility'], color='b')\n",
    "ax1.set_xlabel('Year')\n",
    "ax1.set_ylabel('Fertility') \n",
    "\n",
    "plt.show()"
   ]
  },
  {
   "cell_type": "markdown",
   "metadata": {},
   "source": [
    "The graph above depicts the crude birth rate, i.e., the number of children born per thousand women, in Denmark in the period 1900-2023. In general there has been a large decline in fertility in the period. However, it has not been a constant decrease. We note that there was a large increase in fertility after the Second World War (often referred to as the \"baby boom\"). We also note that although fertility is very low today, it is not the first time. In the beginning of the 1980's fertility was also at a very low rate, whereafter it increased again. "
   ]
  },
  {
   "cell_type": "markdown",
   "metadata": {},
   "source": [
    "We combine the constructed datasets of GDP and fertility."
   ]
  },
  {
   "cell_type": "code",
   "execution_count": 21,
   "metadata": {},
   "outputs": [
    {
     "data": {
      "text/html": [
       "<div>\n",
       "<style scoped>\n",
       "    .dataframe tbody tr th:only-of-type {\n",
       "        vertical-align: middle;\n",
       "    }\n",
       "\n",
       "    .dataframe tbody tr th {\n",
       "        vertical-align: top;\n",
       "    }\n",
       "\n",
       "    .dataframe thead th {\n",
       "        text-align: right;\n",
       "    }\n",
       "</style>\n",
       "<table border=\"1\" class=\"dataframe\">\n",
       "  <thead>\n",
       "    <tr style=\"text-align: right;\">\n",
       "      <th></th>\n",
       "      <th>births</th>\n",
       "      <th>women</th>\n",
       "      <th>fertility</th>\n",
       "      <th>rate</th>\n",
       "      <th>growth</th>\n",
       "    </tr>\n",
       "    <tr>\n",
       "      <th>year</th>\n",
       "      <th></th>\n",
       "      <th></th>\n",
       "      <th></th>\n",
       "      <th></th>\n",
       "      <th></th>\n",
       "    </tr>\n",
       "  </thead>\n",
       "  <tbody>\n",
       "    <tr>\n",
       "      <th>2019</th>\n",
       "      <td>61167.0</td>\n",
       "      <td>2917.0</td>\n",
       "      <td>20.969146</td>\n",
       "      <td>-0.009119</td>\n",
       "      <td>1.5</td>\n",
       "    </tr>\n",
       "    <tr>\n",
       "      <th>2020</th>\n",
       "      <td>60937.0</td>\n",
       "      <td>2926.0</td>\n",
       "      <td>20.826042</td>\n",
       "      <td>-0.006825</td>\n",
       "      <td>-2.4</td>\n",
       "    </tr>\n",
       "    <tr>\n",
       "      <th>2021</th>\n",
       "      <td>63473.0</td>\n",
       "      <td>2935.0</td>\n",
       "      <td>21.626235</td>\n",
       "      <td>0.038423</td>\n",
       "      <td>6.8</td>\n",
       "    </tr>\n",
       "    <tr>\n",
       "      <th>2022</th>\n",
       "      <td>58430.0</td>\n",
       "      <td>2951.0</td>\n",
       "      <td>19.800068</td>\n",
       "      <td>-0.084442</td>\n",
       "      <td>2.7</td>\n",
       "    </tr>\n",
       "    <tr>\n",
       "      <th>2023</th>\n",
       "      <td>57469.0</td>\n",
       "      <td>2984.0</td>\n",
       "      <td>19.259048</td>\n",
       "      <td>-0.027324</td>\n",
       "      <td>1.9</td>\n",
       "    </tr>\n",
       "  </tbody>\n",
       "</table>\n",
       "</div>"
      ],
      "text/plain": [
       "       births   women  fertility      rate  growth\n",
       "year                                              \n",
       "2019  61167.0  2917.0  20.969146 -0.009119     1.5\n",
       "2020  60937.0  2926.0  20.826042 -0.006825    -2.4\n",
       "2021  63473.0  2935.0  21.626235  0.038423     6.8\n",
       "2022  58430.0  2951.0  19.800068 -0.084442     2.7\n",
       "2023  57469.0  2984.0  19.259048 -0.027324     1.9"
      ]
     },
     "execution_count": 21,
     "metadata": {},
     "output_type": "execute_result"
    }
   ],
   "source": [
    "# Merge on year\n",
    "GDP_fertility = pd.merge(fertility,BNP, how = 'inner', on = ['year'])\n",
    "\n",
    "# Set index to year instead of 0, 1 ...\n",
    "GDP_fertility= GDP_fertility.set_index('year')\n",
    "GDP_fertility.tail()\n"
   ]
  },
  {
   "cell_type": "markdown",
   "metadata": {},
   "source": [
    "# Illustrate relationship between GDP and fertility rate"
   ]
  },
  {
   "cell_type": "markdown",
   "metadata": {},
   "source": [
    "Periods of economic prosperity are characterised by rising GDP, and recessions of the opposite. It's reasonable to assume a positive correlation between GDP and the number of births, as economic growth often enhances economic security. This increased security can create greater confidence in the future, thereby encouraging individuals to start families."
   ]
  },
  {
   "cell_type": "code",
   "execution_count": 22,
   "metadata": {},
   "outputs": [
    {
     "data": {
      "image/png": "[encoded data removed]",
      "text/plain": [
       "<Figure size 1000x500 with 2 Axes>"
      ]
     },
     "metadata": {},
     "output_type": "display_data"
    }
   ],
   "source": [
    "# Create plot\n",
    "fig, ax1 = plt.subplots(figsize=(10, 5))\n",
    "\n",
    "# Plot GDP growth on the primary y-axis\n",
    "ax1.plot(GDP_fertility.index, GDP_fertility['growth'], color='b', label='GDP growth')\n",
    "ax1.set_xlabel('Year')\n",
    "ax1.set_ylabel('Pct.', color='b')\n",
    "\n",
    "# Create a secondary y-axis and plot fertility\n",
    "ax2 = ax1.twinx()  \n",
    "ax2.plot(GDP_fertility.index, GDP_fertility['rate'], color='r', label='Yearly change in births per 1000 women')\n",
    "ax2.set_ylabel('Pct.', color='r')\n",
    "\n",
    "# Add legend\n",
    "lines, labels = ax1.get_legend_handles_labels()\n",
    "lines2, labels2 = ax2.get_legend_handles_labels()\n",
    "ax1.legend(lines + lines2, labels + labels2, loc = 'lower center')\n",
    "\n",
    "# Add title\n",
    "plt.title('Yearly changes in fertility and GDP 1967-2023')\n",
    "\n",
    "# Align y-axes\n",
    "mpl_axes_aligner.align.yaxes(ax1, 0, ax2, 0, 0.5)\n",
    "\n",
    "# Add line through 0\n",
    "ax1.axhline(0, linewidth=0.5, color='black', linestyle='--')\n",
    "fig.tight_layout()\n",
    "\n",
    "# Show plot\n",
    "plt.show()"
   ]
  },
  {
   "cell_type": "markdown",
   "metadata": {},
   "source": [
    "We anticipate a delayed response in fertility due to the duration of a pregnancy. This can be seen from the above  graph, notably in the 1970s, 1980s, and following the financial crisis in 2008, where the decline in birth rates follows after the drop in GDP growth.\n",
    "\n",
    "However, the pattern in the graph appears somewhat arbitrary, and it is therefore not possible to conclude anything decisive about the relationship between GDP and fertility based on this graphical investigation."
   ]
  },
  {
   "cell_type": "markdown",
   "metadata": {},
   "source": [
    "# Development in women's education level"
   ]
  },
  {
   "cell_type": "markdown",
   "metadata": {},
   "source": [
    "We use data on women's educational attainment from the dataset HFUDD11 from Statistics Denmark. The data is only available from 2008 to 2022. "
   ]
  },
  {
   "cell_type": "code",
   "execution_count": 23,
   "metadata": {},
   "outputs": [
    {
     "data": {
      "text/html": [
       "<div>\n",
       "<style scoped>\n",
       "    .dataframe tbody tr th:only-of-type {\n",
       "        vertical-align: middle;\n",
       "    }\n",
       "\n",
       "    .dataframe tbody tr th {\n",
       "        vertical-align: top;\n",
       "    }\n",
       "\n",
       "    .dataframe thead th {\n",
       "        text-align: right;\n",
       "    }\n",
       "</style>\n",
       "<table border=\"1\" class=\"dataframe\">\n",
       "  <thead>\n",
       "    <tr style=\"text-align: right;\">\n",
       "      <th></th>\n",
       "      <th>BOPOMR</th>\n",
       "      <th>HERKOMST</th>\n",
       "      <th>HFUDD</th>\n",
       "      <th>ALDER</th>\n",
       "      <th>KØN</th>\n",
       "      <th>TID</th>\n",
       "      <th>INDHOLD</th>\n",
       "    </tr>\n",
       "  </thead>\n",
       "  <tbody>\n",
       "    <tr>\n",
       "      <th>0</th>\n",
       "      <td>All Denmark</td>\n",
       "      <td>Total</td>\n",
       "      <td>H10 Primary education</td>\n",
       "      <td>20-24 years</td>\n",
       "      <td>Women</td>\n",
       "      <td>2008</td>\n",
       "      <td>40780</td>\n",
       "    </tr>\n",
       "    <tr>\n",
       "      <th>1</th>\n",
       "      <td>All Denmark</td>\n",
       "      <td>Total</td>\n",
       "      <td>H10 Primary education</td>\n",
       "      <td>25-29 years</td>\n",
       "      <td>Women</td>\n",
       "      <td>2008</td>\n",
       "      <td>26981</td>\n",
       "    </tr>\n",
       "    <tr>\n",
       "      <th>2</th>\n",
       "      <td>All Denmark</td>\n",
       "      <td>Total</td>\n",
       "      <td>H10 Primary education</td>\n",
       "      <td>30-34 years</td>\n",
       "      <td>Women</td>\n",
       "      <td>2008</td>\n",
       "      <td>27719</td>\n",
       "    </tr>\n",
       "    <tr>\n",
       "      <th>3</th>\n",
       "      <td>All Denmark</td>\n",
       "      <td>Total</td>\n",
       "      <td>H10 Primary education</td>\n",
       "      <td>35-39 years</td>\n",
       "      <td>Women</td>\n",
       "      <td>2008</td>\n",
       "      <td>31359</td>\n",
       "    </tr>\n",
       "    <tr>\n",
       "      <th>4</th>\n",
       "      <td>All Denmark</td>\n",
       "      <td>Total</td>\n",
       "      <td>H10 Primary education</td>\n",
       "      <td>40-44 years</td>\n",
       "      <td>Women</td>\n",
       "      <td>2008</td>\n",
       "      <td>37998</td>\n",
       "    </tr>\n",
       "  </tbody>\n",
       "</table>\n",
       "</div>"
      ],
      "text/plain": [
       "        BOPOMR HERKOMST                  HFUDD        ALDER    KØN   TID  \\\n",
       "0  All Denmark    Total  H10 Primary education  20-24 years  Women  2008   \n",
       "1  All Denmark    Total  H10 Primary education  25-29 years  Women  2008   \n",
       "2  All Denmark    Total  H10 Primary education  30-34 years  Women  2008   \n",
       "3  All Denmark    Total  H10 Primary education  35-39 years  Women  2008   \n",
       "4  All Denmark    Total  H10 Primary education  40-44 years  Women  2008   \n",
       "\n",
       "   INDHOLD  \n",
       "0    40780  \n",
       "1    26981  \n",
       "2    27719  \n",
       "3    31359  \n",
       "4    37998  "
      ]
     },
     "execution_count": 23,
     "metadata": {},
     "output_type": "execute_result"
    }
   ],
   "source": [
    "# Load data on educational attainment using an API\n",
    "hfudd11 = data_HFUDD11()\n",
    "hfudd11.head()"
   ]
  },
  {
   "cell_type": "code",
   "execution_count": 24,
   "metadata": {},
   "outputs": [
    {
     "data": {
      "text/html": [
       "<div>\n",
       "<style scoped>\n",
       "    .dataframe tbody tr th:only-of-type {\n",
       "        vertical-align: middle;\n",
       "    }\n",
       "\n",
       "    .dataframe tbody tr th {\n",
       "        vertical-align: top;\n",
       "    }\n",
       "\n",
       "    .dataframe thead th {\n",
       "        text-align: right;\n",
       "    }\n",
       "</style>\n",
       "<table border=\"1\" class=\"dataframe\">\n",
       "  <thead>\n",
       "    <tr style=\"text-align: right;\">\n",
       "      <th></th>\n",
       "      <th>HFUDD</th>\n",
       "      <th>Age</th>\n",
       "      <th>Year</th>\n",
       "      <th>Number of women</th>\n",
       "    </tr>\n",
       "  </thead>\n",
       "  <tbody>\n",
       "    <tr>\n",
       "      <th>0</th>\n",
       "      <td>H10 Primary education</td>\n",
       "      <td>20-24 years</td>\n",
       "      <td>2008</td>\n",
       "      <td>40780</td>\n",
       "    </tr>\n",
       "    <tr>\n",
       "      <th>1</th>\n",
       "      <td>H10 Primary education</td>\n",
       "      <td>25-29 years</td>\n",
       "      <td>2008</td>\n",
       "      <td>26981</td>\n",
       "    </tr>\n",
       "    <tr>\n",
       "      <th>2</th>\n",
       "      <td>H10 Primary education</td>\n",
       "      <td>30-34 years</td>\n",
       "      <td>2008</td>\n",
       "      <td>27719</td>\n",
       "    </tr>\n",
       "    <tr>\n",
       "      <th>3</th>\n",
       "      <td>H10 Primary education</td>\n",
       "      <td>35-39 years</td>\n",
       "      <td>2008</td>\n",
       "      <td>31359</td>\n",
       "    </tr>\n",
       "    <tr>\n",
       "      <th>4</th>\n",
       "      <td>H10 Primary education</td>\n",
       "      <td>40-44 years</td>\n",
       "      <td>2008</td>\n",
       "      <td>37998</td>\n",
       "    </tr>\n",
       "  </tbody>\n",
       "</table>\n",
       "</div>"
      ],
      "text/plain": [
       "                   HFUDD          Age  Year  Number of women\n",
       "0  H10 Primary education  20-24 years  2008            40780\n",
       "1  H10 Primary education  25-29 years  2008            26981\n",
       "2  H10 Primary education  30-34 years  2008            27719\n",
       "3  H10 Primary education  35-39 years  2008            31359\n",
       "4  H10 Primary education  40-44 years  2008            37998"
      ]
     },
     "execution_count": 24,
     "metadata": {},
     "output_type": "execute_result"
    }
   ],
   "source": [
    "# Cleaning data \n",
    "hfudd11= clean_HFUDD11()\n",
    "\n",
    "# Checking everything went well \n",
    "hfudd11.head()\n"
   ]
  },
  {
   "cell_type": "code",
   "execution_count": 25,
   "metadata": {},
   "outputs": [
    {
     "data": {
      "text/html": [
       "<div>\n",
       "<style scoped>\n",
       "    .dataframe tbody tr th:only-of-type {\n",
       "        vertical-align: middle;\n",
       "    }\n",
       "\n",
       "    .dataframe tbody tr th {\n",
       "        vertical-align: top;\n",
       "    }\n",
       "\n",
       "    .dataframe thead th {\n",
       "        text-align: right;\n",
       "    }\n",
       "</style>\n",
       "<table border=\"1\" class=\"dataframe\">\n",
       "  <thead>\n",
       "    <tr style=\"text-align: right;\">\n",
       "      <th></th>\n",
       "      <th>HFUDD</th>\n",
       "      <th>Year</th>\n",
       "      <th>Number of women</th>\n",
       "    </tr>\n",
       "  </thead>\n",
       "  <tbody>\n",
       "    <tr>\n",
       "      <th>0</th>\n",
       "      <td>H10 Primary education</td>\n",
       "      <td>2008</td>\n",
       "      <td>164837</td>\n",
       "    </tr>\n",
       "    <tr>\n",
       "      <th>1</th>\n",
       "      <td>H10 Primary education</td>\n",
       "      <td>2009</td>\n",
       "      <td>160586</td>\n",
       "    </tr>\n",
       "    <tr>\n",
       "      <th>2</th>\n",
       "      <td>H10 Primary education</td>\n",
       "      <td>2010</td>\n",
       "      <td>157632</td>\n",
       "    </tr>\n",
       "    <tr>\n",
       "      <th>3</th>\n",
       "      <td>H10 Primary education</td>\n",
       "      <td>2011</td>\n",
       "      <td>153895</td>\n",
       "    </tr>\n",
       "    <tr>\n",
       "      <th>4</th>\n",
       "      <td>H10 Primary education</td>\n",
       "      <td>2012</td>\n",
       "      <td>149454</td>\n",
       "    </tr>\n",
       "  </tbody>\n",
       "</table>\n",
       "</div>"
      ],
      "text/plain": [
       "                   HFUDD  Year  Number of women\n",
       "0  H10 Primary education  2008           164837\n",
       "1  H10 Primary education  2009           160586\n",
       "2  H10 Primary education  2010           157632\n",
       "3  H10 Primary education  2011           153895\n",
       "4  H10 Primary education  2012           149454"
      ]
     },
     "execution_count": 25,
     "metadata": {},
     "output_type": "execute_result"
    }
   ],
   "source": [
    "# Summarize number of women in each age group for each year and level of education. \n",
    "hfudd11_sum = hfudd11.groupby(['HFUDD', 'Year'])['Number of women'].sum().reset_index()\n",
    "\n",
    "# Checking it goes well \n",
    "hfudd11_sum.head()"
   ]
  },
  {
   "cell_type": "markdown",
   "metadata": {},
   "source": [
    "We illustrate the development in women's educational attainment with a interactive plot showing the developemnt for each level of education individually. "
   ]
  },
  {
   "cell_type": "code",
   "execution_count": 26,
   "metadata": {},
   "outputs": [
    {
     "data": {
      "application/vnd.jupyter.widget-view+json": {
       "model_id": "c6cf3fb4c65c41e1a0310308e318863b",
       "version_major": 2,
       "version_minor": 0
      },
      "text/plain": [
       "interactive(children=(Dropdown(description='HFUDD', options=('H10 Primary education', 'H20 Upper secondary edu…"
      ]
     },
     "metadata": {},
     "output_type": "display_data"
    }
   ],
   "source": [
    "hfudd11_sum = pd.DataFrame(hfudd11_sum)\n",
    "\n",
    "# Construction of the plot\n",
    "def plot_e(hfudd11_sum, HFUDD): \n",
    "    filtered_df = hfudd11_sum[hfudd11_sum['HFUDD'] == HFUDD]\n",
    "    ax = filtered_df.plot(x='Year', y='Number of women', style='-o', legend=False)\n",
    "    ax.set_title(f'Number of Women at {HFUDD} Education Level')\n",
    "    ax.set_xlabel('Year')\n",
    "    ax.set_ylabel('Number of Women')\n",
    "    plt.show()\n",
    "\n",
    "# Dropdown menu for education level\n",
    "education_levels = hfudd11_sum['HFUDD'].unique()\n",
    "widgets.interact(plot_e, \n",
    "                 hfudd11_sum=widgets.fixed(hfudd11_sum),\n",
    "                 HFUDD=widgets.Dropdown(description='HFUDD', \n",
    "                                        options=education_levels, \n",
    "                                        value=education_levels[0]));"
   ]
  },
  {
   "cell_type": "markdown",
   "metadata": {},
   "source": [
    "The plot depicts the educational attainment among Danish women from 2008 to 2023. While the number of women with primary education or vocational training as the highest level of education has fallen, the number of women with longer educations, e.g., masters or Ph.d.'s has increased. In general the plot shows that the educational attainment among Danish women has increased significantly. \n",
    "\n",
    "It is not possible to conclude whether the educational attainment among women has been a deciding factor in the lower fertiliy, however we do find that the fertility has fallen while the educational attainment has rissen, leading us to suspect a potential relationship between the two. Further investigations would however be needed to establish a causal relationship between fertility and women's educational attainment. "
   ]
  },
  {
   "cell_type": "markdown",
   "metadata": {},
   "source": [
    "# Concluding remark"
   ]
  },
  {
   "cell_type": "markdown",
   "metadata": {},
   "source": [
    "In this project we have investigated the development in the number of births per woman in Denmark and potential explanations for the development. \n",
    "\n",
    "Overall we find that the fertility, as measured by the number of births per thousand women, has fallen drastically since the 1970's. \n",
    "\n",
    "We investigate two potential factors influencing fertility: \n",
    "1) GDP growth \n",
    "2) The educational attainment among women. \n",
    "\n",
    "It is not possible to establish a causal relationship between fertility and each of the two factors with the data used in this project. However, the litterature suggests that both factors influence the fertility rate, and we do not find any evidence contradicting this. The correlations in data support the hypothesis that the fertility rate reacts positively to financial stability/growth. Likewise, the drop in fertility has coincided with women's higher educational attainment. "
   ]
  }
 ],
 "metadata": {
  "kernelspec": {
   "display_name": "base",
   "language": "python",
   "name": "python3"
  },
  "language_info": {
   "codemirror_mode": {
    "name": "ipython",
    "version": 3
   },
   "file_extension": ".py",
   "mimetype": "text/x-python",
   "name": "python",
   "nbconvert_exporter": "python",
   "pygments_lexer": "ipython3",
   "version": "3.11.7"
  },
  "toc-autonumbering": true,
  "vscode": {
   "interpreter": {
    "hash": "47ef90cdf3004d3f859f1fb202523c65c07ba7c22eefd261b181f4744e2d0403"
   }
  }
 },
 "nbformat": 4,
 "nbformat_minor": 4
}
