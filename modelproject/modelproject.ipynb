{
 "cells": [
  {
   "cell_type": "markdown",
   "metadata": {},
   "source": [
    "# Solow model with limited resources and climate change"
   ]
  },
  {
   "cell_type": "markdown",
   "metadata": {},
   "source": [
    "**Imports:**"
   ]
  },
  {
   "cell_type": "code",
   "execution_count": 1,
   "metadata": {},
   "outputs": [],
   "source": [
    "import numpy as np\n",
    "from scipy import optimize\n",
    "import sympy as sm\n",
    "from ipywidgets import FloatSlider, interact\n",
    "\n",
    "# autoreload modules when code is run\n",
    "%load_ext autoreload\n",
    "%autoreload 2\n",
    "\n",
    "# local modules\n",
    "import modelproject"
   ]
  },
  {
   "cell_type": "markdown",
   "metadata": {},
   "source": [
    "# Model description"
   ]
  },
  {
   "cell_type": "markdown",
   "metadata": {},
   "source": [
    "This model project investigates the Solow model with limited resources and damage from climate change. The Solow model is a neoclassical growth model, which describes long-run growth as a function of capital accumulation, population growth, technological change, a limited resource and climate change. The model is specified under the assumption that the economy is closed. \n",
    "\n",
    "\n",
    "We will model both a **baseline** solow model and the **extended** version to compare and discuss results."
   ]
  },
  {
   "cell_type": "markdown",
   "metadata": {},
   "source": [
    "# Baseline Solow model"
   ]
  },
  {
   "cell_type": "markdown",
   "metadata": {},
   "source": [
    "The baseline Solow model uses the following variables:\n",
    "1. Labour, $L_t$\n",
    "2. Capital, $K_t$\n",
    "3. Technology, $A_t$\n",
    "\n",
    "as input in the Cobb-Douglas production function: \n",
    "$$\n",
    "F(K_t,A_tL_t) = Y_t = K_t^\\alpha(A_t L_t)^{1-\\alpha}, \\quad \\alpha \\leq 1\n",
    "$$\n",
    "\n",
    "Savings, $S_t$, are assumed to be a constant fraction of the income:\n",
    "$$\n",
    "S_t = sY_t, \\quad 0 < s < 1\n",
    "$$\n",
    "\n",
    "and capital accumulates according to:\n",
    "\n",
    "$$\n",
    "K_{t+1} = S_t + (1-\\delta)K_t, \\quad 0 < \\delta <1\n",
    "$$\n",
    "We furthermore assume that the workforce grows at a constant rate of n:\n",
    "$$\n",
    "L_{t+1} = (1+n)L_t, \\quad n > -1\n",
    "$$\n",
    "And that technology grows at the rate of g:\n",
    "$$\n",
    "A_{t+1} = (1+g)A_t, \\quad 0 < g < 1\n",
    "$$"
   ]
  },
  {
   "cell_type": "markdown",
   "metadata": {},
   "source": [
    "The production function exhibits constant returns to scale. Capital per effective worker is given by: \n",
    "$$\n",
    "\\frac{Y_{t}}{A_{t}L_{t}} = \\frac{F(K_t,A_tL_t)}{A_tL_t}\\equiv f(\\tilde k)\n",
    "$$\n",
    "\n",
    "The production function can be rewritten as: \n",
    "$$\n",
    "F(K_t,A_tL_T)=K_t^\\alpha (A_tL_t)^{1-\\alpha} \\rightarrow f(\\tilde k) = \\tilde k^\\alpha\n",
    "$$\n",
    "\n",
    "The transition equation is thus given by: \n",
    "$$\n",
    "\\tilde k_{t+1}=\\frac{1}{(1+n)(1+g)}[sf(\\tilde k_t)+(1-\\delta)\\tilde k_t]\n",
    "$$"
   ]
  },
  {
   "cell_type": "markdown",
   "metadata": {},
   "source": [
    "# Extended Solow model"
   ]
  },
  {
   "cell_type": "markdown",
   "metadata": {},
   "source": [
    "We extend the baseline Solow model to include an exhaustable ressource, e.g., oil, in the production function. The usage of the exhaustible ressource leads to climate change, which damages future production. \n",
    "\n",
    "In addition to the variables used in the standard Solow model, the following variables are included in the production function: \n",
    " \n",
    "4. The amount of the exhaustable natural ressource, which is used for production, $E_t$\n",
    "\n",
    "5. The fraction of the production, which is damaged and thus lost due to climate change, $D_t$ \n",
    "\n",
    "The production function is given by: "
   ]
  },
  {
   "cell_type": "markdown",
   "metadata": {},
   "source": [
    "\n",
    "$$\n",
    "Y_{t}=[1-D_{t}]K_{t}^\\alpha(A_{t}L_{t})^\\beta E_{t}^\\varepsilon, \\quad \\alpha, \\beta, \\varepsilon >0, \\quad  \\alpha+\\beta+\\varepsilon=1\n",
    "$$\n",
    "\n",
    "The damage due to climate change is expressed by: \n",
    "\n",
    "$$\n",
    "D_{t}=1-\\left(\\frac{R_{t}}{R_{0}}\\right)^{\\phi}, \\quad \\phi \\ge 0\n",
    "$$\n",
    "\n",
    "The remaining amount of the exhaustable ressource, $R_t$, is given as the amount still left at the beginning of the proceeding period subtracted the amount used in production in the proceeding period: \n",
    "$$\n",
    "R_{t+1}=R_{t}-E_{t}, \\quad R_{0}\\text{ is given.}\n",
    "$$\n",
    "\n",
    "The amount of the exhaustable ressource consumed each period is a constant fraction, sE, of the remaining ressource: \n",
    "$$\n",
    "E_{t}=s_{E}R_{t}, \\quad 0<s_{E}< 1\n",
    "$$\n",
    "The remaining equations are unchanged from the standard Solow model. Thus capital accumulates according to: \n",
    "$$\n",
    "K_{t+1}=sY_{t}+(1-\\delta)K_t,  \\quad 0<s<1, \\quad 0<\\delta<1, \\quad K_{0}>0 \\text{ is given.}\n",
    "$$\n",
    "The population grows at a constant rate, n: \n",
    "$$\n",
    "L_{t+1}=(1+n)L_{t}, \\quad L_{0} \\text{ is given.}\n",
    "$$\n",
    "And technology develops at the rate of g: \n",
    "$$\n",
    "A_{t+1}=(1+g)A_{t}, \\quad A_{0} \\text{ is given.} \n",
    "$$\n"
   ]
  },
  {
   "cell_type": "markdown",
   "metadata": {},
   "source": [
    "The capital-output ratio is given as: \n",
    "$$\n",
    "z_t = \\frac{K_t}{Y_t} = \\frac{K^{1-\\alpha}_t}{(\\frac{R_t}{R_0})^\\phi (A_tL_t)^\\beta E_t^\\epsilon}\n",
    "$$\n",
    "\n",
    "And the transition equation is then: \n",
    "$$\n",
    "z_{t+1}=(\\frac{1}{1-sE})^{\\epsilon+\\phi} (\\frac{1}{(1+n)(1+g)})^\\beta (s+(1-\\delta)z_t)^{1-\\alpha}z_t^\\alpha\n",
    "$$"
   ]
  },
  {
   "cell_type": "markdown",
   "metadata": {},
   "source": [
    "# Numerical solution of the Solow model"
   ]
  },
  {
   "cell_type": "code",
   "execution_count": 2,
   "metadata": {},
   "outputs": [],
   "source": [
    "from modelproject import Solowclass"
   ]
  },
  {
   "cell_type": "markdown",
   "metadata": {},
   "source": [
    "Baseline Solow model. In the baseline model we solve for $ \\tilde k$ (capital per effective worker): "
   ]
  },
  {
   "cell_type": "code",
   "execution_count": 8,
   "metadata": {},
   "outputs": [
    {
     "name": "stdout",
     "output_type": "stream",
     "text": [
      "The steady state for k in the standard Solow model is 4.680802838247644\n"
     ]
    }
   ],
   "source": [
    "# Calling the class from the notebook\n",
    "model = Solowclass()\n",
    "\n",
    "# Set parameter values\n",
    "model.paramtervalues()\n",
    "\n",
    "# Solving for k*\n",
    "model.solve_ss_k_par(kss=1)"
   ]
  },
  {
   "cell_type": "markdown",
   "metadata": {},
   "source": [
    "The extended Solow model. In the extended model we solve for z (capital/output-ratio)."
   ]
  },
  {
   "cell_type": "code",
   "execution_count": 4,
   "metadata": {},
   "outputs": [
    {
     "name": "stdout",
     "output_type": "stream",
     "text": [
      "The steady state for z in the Solow model with an exhaustable resource and climate change is 4.0913116295145855\n"
     ]
    }
   ],
   "source": [
    "# Solving for z*\n",
    "model.solve_ss_z_par(zss=1)\n",
    "\n",
    "# ISN: SAMME LØSNING FOR Z SOM I EKSAMENSSÆT :)\n"
   ]
  },
  {
   "cell_type": "markdown",
   "metadata": {},
   "source": [
    "# Plotting convergence to steady state"
   ]
  },
  {
   "cell_type": "code",
   "execution_count": 9,
   "metadata": {},
   "outputs": [
    {
     "data": {
      "image/png": "[encoded data removed]",
      "text/plain": [
       "<Figure size 640x480 with 1 Axes>"
      ]
     },
     "metadata": {},
     "output_type": "display_data"
    },
    {
     "data": {
      "text/plain": [
       "namespace(k=array([ 1.        ,  1.05397173,  1.10829988,  1.16300565,  1.21811245,\n",
       "                    1.27364562,  1.32963222,  1.38610075,  1.44308106,  1.50060413,\n",
       "                    1.55870201,  1.6174077 ,  1.67675502,  1.73677862,  1.79751387,\n",
       "                    1.85899679,  1.9212641 ,  1.98435308,  2.04830165,  2.11314826,\n",
       "                    2.17893194,  2.24569229,  2.31346944,  2.38230407,  2.45223742,\n",
       "                    2.52331131,  2.5955681 ,  2.66905074,  2.74380279,  2.8198684 ,\n",
       "                    2.89729235,  2.97612008,  3.05639768,  3.13817192,  3.22149029,\n",
       "                    3.306401  ,  3.39295301,  3.48119608,  3.57118076,  3.66295842,\n",
       "                    3.75658131,  3.85210255,  3.9495762 ,  4.04905723,  4.15060162,\n",
       "                    4.25426634,  4.3601094 ,  4.46818988,  4.57856798,  4.69130501,\n",
       "                    4.80646348,  4.9241071 ,  5.0443008 ,  5.16711082,  5.29260471,\n",
       "                    5.42085136,  5.55192108,  5.68588558,  5.82281806,  5.96279324,\n",
       "                    6.10588738,  6.25217834,  6.40174564,  6.55467046,  6.71103571,\n",
       "                    6.8709261 ,  7.03442813,  7.20163019,  7.37262259,  7.54749759,\n",
       "                    7.72634949,  7.90927464,  8.09637152,  8.2877408 ,  8.48348535,\n",
       "                    8.68371036,  8.88852335,  9.09803424,  9.31235541,  9.53160178,\n",
       "                    9.75589084,  9.98534273, 10.22008032, 10.46022923, 10.70591797,\n",
       "                   10.95727793, 11.21444351, 11.47755216, 11.74674448, 12.02216425,\n",
       "                   12.30395858, 12.59227791, 12.88727615, 13.18911072, 13.49794268,\n",
       "                   13.81393678, 14.13726155, 14.4680894 , 14.80659673, 15.15296399]),\n",
       "          z=array([2.88539981, 2.95432263, 3.01932132, 3.08061707, 3.13841894,\n",
       "                   3.19292451, 3.24432043, 3.29278299, 3.33847865, 3.38156458,\n",
       "                   3.42218912, 3.4604923 , 3.49660624, 3.53065564, 3.56275814,\n",
       "                   3.59302474, 3.62156014, 3.64846313, 3.67382686, 3.69773923,\n",
       "                   3.72028313, 3.74153672, 3.76157373, 3.7804637 , 3.7982722 ,\n",
       "                   3.81506105, 3.83088857, 3.84580974, 3.85987641, 3.87313745,\n",
       "                   3.88563898, 3.89742444, 3.90853483, 3.91900877, 3.92888271,\n",
       "                   3.93819099, 3.946966  , 3.95523827, 3.96303658, 3.97038808,\n",
       "                   3.97731836, 3.98385155, 3.99001037, 3.99581628, 4.0012895 ,\n",
       "                   4.00644907, 4.01131298, 4.01589814, 4.02022055, 4.02429524,\n",
       "                   4.02813641, 4.03175745, 4.03517095, 4.03838883, 4.04142228,\n",
       "                   4.04428187, 4.04697757, 4.04951876, 4.05191431, 4.05417255,\n",
       "                   4.05630137, 4.05830816, 4.06019993, 4.06198327, 4.0636644 ,\n",
       "                   4.06524916, 4.06674309, 4.06815139, 4.06947897, 4.07073045,\n",
       "                   4.0719102 , 4.07302233, 4.0740707 , 4.07505899, 4.07599062,\n",
       "                   4.07686886, 4.07769675, 4.07847719, 4.07921289, 4.07990642,\n",
       "                   4.0805602 , 4.0811765 , 4.08175747, 4.08230514, 4.08282142,\n",
       "                   4.0833081 , 4.08376689, 4.08419938, 4.08460707, 4.0849914 ,\n",
       "                   4.08535369, 4.08569522, 4.08601717, 4.08632067, 4.08660676,\n",
       "                   4.08687646, 4.0871307 , 4.08737037, 4.08759629, 4.08780927]),\n",
       "          y=array([0.34657242, 0.3567558 , 0.36706921, 0.3775236 , 0.38812933,\n",
       "                   0.39889625, 0.40983381, 0.42095114, 0.43225709, 0.4437603 ,\n",
       "                   0.45546928, 0.46739237, 0.47953785, 0.49191391, 0.50452874,\n",
       "                   0.51739048, 0.5305073 , 0.54388739, 0.55753897, 0.57147033,\n",
       "                   0.58568982, 0.60020587, 0.61502701, 0.63016187, 0.64561919,\n",
       "                   0.66140784, 0.67753683, 0.69401528, 0.7108525 , 0.72805792,\n",
       "                   0.74564116, 0.763612  , 0.78198041, 0.80075654, 0.81995074,\n",
       "                   0.83957355, 0.85963573, 0.88014826, 0.90112233, 0.92256937,\n",
       "                   0.94450103, 0.96692924, 0.98986615, 1.01332417, 1.037316  ,\n",
       "                   1.06185459, 1.08695318, 1.1126253 , 1.13888478, 1.16574574,\n",
       "                   1.19322262, 1.22133019, 1.25008354, 1.2794981 , 1.30958963,\n",
       "                   1.34037427, 1.37186851, 1.4040892 , 1.4370536 , 1.47077934,\n",
       "                   1.50528445, 1.54058738, 1.576707  , 1.61366259, 1.6514739 ,\n",
       "                   1.69016112, 1.7297449 , 1.77024636, 1.81168711, 1.85408926,\n",
       "                   1.89747541, 1.94186872, 1.98729284, 2.03377198, 2.08133093,\n",
       "                   2.12999502, 2.17979018, 2.23074295, 2.28288046, 2.33623049,\n",
       "                   2.39082145, 2.44668241, 2.50384311, 2.56233399, 2.6221862 ,\n",
       "                   2.68343158, 2.74610276, 2.81023307, 2.87585667, 2.94300846,\n",
       "                   3.0117242 , 3.08204044, 3.15399461, 3.227625  , 3.30297077,\n",
       "                   3.38007202, 3.45896977, 3.539706  , 3.62232365, 3.70686668]),\n",
       "          a=array([ 1.        ,  1.027     ,  1.054729  ,  1.08320668,  1.11245326,\n",
       "                    1.1424895 ,  1.17333672,  1.20501681,  1.23755226,  1.27096617,\n",
       "                    1.30528226,  1.34052488,  1.37671905,  1.41389047,  1.45206551,\n",
       "                    1.49127128,  1.5315356 ,  1.57288707,  1.61535502,  1.6589696 ,\n",
       "                    1.70376178,  1.74976335,  1.79700696,  1.84552615,  1.89535535,\n",
       "                    1.94652995,  1.99908626,  2.05306159,  2.10849425,  2.16542359,\n",
       "                    2.22389003,  2.28393506,  2.34560131,  2.40893254,  2.47397372,\n",
       "                    2.54077101,  2.60937183,  2.67982487,  2.75218014,  2.826489  ,\n",
       "                    2.90280421,  2.98117992,  3.06167178,  3.14433692,  3.22923401,\n",
       "                    3.31642333,  3.40596676,  3.49792786,  3.59237192,  3.68936596,\n",
       "                    3.78897884,  3.89128127,  3.99634586,  4.1042472 ,  4.21506188,\n",
       "                    4.32886855,  4.445748  ,  4.56578319,  4.68905934,  4.81566394,\n",
       "                    4.94568687,  5.07922041,  5.21635936,  5.35720107,  5.5018455 ,\n",
       "                    5.65039532,  5.802956  ,  5.95963581,  6.12054598,  6.28580072,\n",
       "                    6.45551734,  6.62981631,  6.80882135,  6.99265952,  7.18146133,\n",
       "                    7.37536078,  7.57449553,  7.77900691,  7.98904009,  8.20474417,\n",
       "                    8.42627227,  8.65378162,  8.88743372,  9.12739443,  9.37383408,\n",
       "                    9.6269276 ,  9.88685465, 10.15379972, 10.42795232, 10.70950703,\n",
       "                   10.99866372, 11.29562764, 11.60060958, 11.91382604, 12.23549935,\n",
       "                   12.56585783, 12.90513599, 13.25357466, 13.61142118, 13.97892955]),\n",
       "          e=array([0.005     , 0.004975  , 0.00495013, 0.00492537, 0.00490075,\n",
       "                   0.00487624, 0.00485186, 0.0048276 , 0.00480347, 0.00477945,\n",
       "                   0.00475555, 0.00473177, 0.00470811, 0.00468457, 0.00466115,\n",
       "                   0.00463784, 0.00461466, 0.00459158, 0.00456862, 0.00454578,\n",
       "                   0.00452305, 0.00450044, 0.00447793, 0.00445555, 0.00443327,\n",
       "                   0.0044111 , 0.00438905, 0.0043671 , 0.00434526, 0.00432354,\n",
       "                   0.00430192, 0.00428041, 0.00425901, 0.00423771, 0.00421653,\n",
       "                   0.00419544, 0.00417447, 0.00415359, 0.00413283, 0.00411216,\n",
       "                   0.0040916 , 0.00407114, 0.00405079, 0.00403053, 0.00401038,\n",
       "                   0.00399033, 0.00397038, 0.00395052, 0.00393077, 0.00391112,\n",
       "                   0.00389156, 0.0038721 , 0.00385274, 0.00383348, 0.00381431,\n",
       "                   0.00379524, 0.00377627, 0.00375738, 0.0037386 , 0.0037199 ,\n",
       "                   0.0037013 , 0.0036828 , 0.00366438, 0.00364606, 0.00362783,\n",
       "                   0.00360969, 0.00359164, 0.00357369, 0.00355582, 0.00353804,\n",
       "                   0.00352035, 0.00350275, 0.00348523, 0.00346781, 0.00345047,\n",
       "                   0.00343322, 0.00341605, 0.00339897, 0.00338197, 0.00336506,\n",
       "                   0.00334824, 0.0033315 , 0.00331484, 0.00329827, 0.00328177,\n",
       "                   0.00326537, 0.00324904, 0.00323279, 0.00321663, 0.00320055,\n",
       "                   0.00318454, 0.00316862, 0.00315278, 0.00313701, 0.00312133,\n",
       "                   0.00310572, 0.00309019, 0.00307474, 0.00305937, 0.00304407]),\n",
       "          d=array([0.        , 0.00250313, 0.005     , 0.00749062, 0.009975  ,\n",
       "                   0.01245316, 0.01492512, 0.0173909 , 0.0198505 , 0.02230394,\n",
       "                   0.02475125, 0.02719242, 0.02962749, 0.03205646, 0.03447935,\n",
       "                   0.03689618, 0.03930696, 0.0417117 , 0.04411042, 0.04650314,\n",
       "                   0.04888987, 0.05127062, 0.05364542, 0.05601427, 0.05837719,\n",
       "                   0.0607342 , 0.06308531, 0.06543053, 0.06776988, 0.07010338,\n",
       "                   0.07243103, 0.07475286, 0.07706888, 0.0793791 , 0.08168353,\n",
       "                   0.0839822 , 0.08627511, 0.08856229, 0.09084374, 0.09311948,\n",
       "                   0.09538952, 0.09765388, 0.09991257, 0.10216561, 0.10441301,\n",
       "                   0.10665478, 0.10889094, 0.11112151, 0.11334649, 0.1155659 ,\n",
       "                   0.11777976, 0.11998807, 0.12219086, 0.12438813, 0.1265799 ,\n",
       "                   0.12876619, 0.130947  , 0.13312236, 0.13529227, 0.13745675,\n",
       "                   0.13961581, 0.14176946, 0.14391773, 0.14606062, 0.14819814,\n",
       "                   0.15033031, 0.15245715, 0.15457866, 0.15669486, 0.15880577,\n",
       "                   0.16091139, 0.16301174, 0.16510683, 0.16719668, 0.1692813 ,\n",
       "                   0.1713607 , 0.17343489, 0.17550389, 0.17756772, 0.17962637,\n",
       "                   0.18167988, 0.18372824, 0.18577148, 0.1878096 , 0.18984262,\n",
       "                   0.19187055, 0.19389341, 0.1959112 , 0.19792394, 0.19993164,\n",
       "                   0.20193432, 0.20393199, 0.20592465, 0.20791233, 0.20989503,\n",
       "                   0.21187277, 0.21384555, 0.2158134 , 0.21777632, 0.21973433]),\n",
       "          r=array([1.        , 0.995     , 0.990025  , 0.98507488, 0.9801495 ,\n",
       "                   0.97524875, 0.97037251, 0.96552065, 0.96069304, 0.95588958,\n",
       "                   0.95111013, 0.94635458, 0.94162281, 0.93691469, 0.93223012,\n",
       "                   0.92756897, 0.92293112, 0.91831647, 0.91372489, 0.90915626,\n",
       "                   0.90461048, 0.90008743, 0.89558699, 0.89110906, 0.88665351,\n",
       "                   0.88222024, 0.87780914, 0.8734201 , 0.869053  , 0.86470773,\n",
       "                   0.86038419, 0.85608227, 0.85180186, 0.84754285, 0.84330514,\n",
       "                   0.83908861, 0.83489317, 0.8307187 , 0.82656511, 0.82243228,\n",
       "                   0.81832012, 0.81422852, 0.81015738, 0.80610659, 0.80207606,\n",
       "                   0.79806568, 0.79407535, 0.79010497, 0.78615445, 0.78222368,\n",
       "                   0.77831256, 0.77442099, 0.77054889, 0.76669614, 0.76286266,\n",
       "                   0.75904835, 0.75525311, 0.75147684, 0.74771946, 0.74398086,\n",
       "                   0.74026096, 0.73655965, 0.73287685, 0.72921247, 0.72556641,\n",
       "                   0.72193858, 0.71832888, 0.71473724, 0.71116355, 0.70760773,\n",
       "                   0.7040697 , 0.70054935, 0.6970466 , 0.69356137, 0.69009356,\n",
       "                   0.68664309, 0.68320988, 0.67979383, 0.67639486, 0.67301288,\n",
       "                   0.66964782, 0.66629958, 0.66296808, 0.65965324, 0.65635498,\n",
       "                   0.6530732 , 0.64980784, 0.6465588 , 0.643326  , 0.64010937,\n",
       "                   0.63690883, 0.63372428, 0.63055566, 0.62740288, 0.62426587,\n",
       "                   0.62114454, 0.61803882, 0.61494862, 0.61187388, 0.60881451]),\n",
       "          l=array([1.        , 1.01      , 1.0201    , 1.030301  , 1.04060401,\n",
       "                   1.05101005, 1.06152015, 1.07213535, 1.08285671, 1.09368527,\n",
       "                   1.10462213, 1.11566835, 1.12682503, 1.13809328, 1.14947421,\n",
       "                   1.16096896, 1.17257864, 1.18430443, 1.19614748, 1.20810895,\n",
       "                   1.22019004, 1.23239194, 1.24471586, 1.25716302, 1.26973465,\n",
       "                   1.282432  , 1.29525631, 1.30820888, 1.32129097, 1.33450388,\n",
       "                   1.34784892, 1.3613274 , 1.37494068, 1.38869009, 1.40257699,\n",
       "                   1.41660276, 1.43076878, 1.44507647, 1.45952724, 1.47412251,\n",
       "                   1.48886373, 1.50375237, 1.51878989, 1.53397779, 1.54931757,\n",
       "                   1.56481075, 1.58045885, 1.59626344, 1.61222608, 1.62834834,\n",
       "                   1.64463182, 1.66107814, 1.67768892, 1.69446581, 1.71141047,\n",
       "                   1.72852457, 1.74580982, 1.76326792, 1.7809006 , 1.7987096 ,\n",
       "                   1.8166967 , 1.83486367, 1.8532123 , 1.87174443, 1.89046187,\n",
       "                   1.90936649, 1.92846015, 1.94774475, 1.9672222 , 1.98689442,\n",
       "                   2.00676337, 2.026831  , 2.04709931, 2.06757031, 2.08824601,\n",
       "                   2.10912847, 2.13021975, 2.15152195, 2.17303717, 2.19476754,\n",
       "                   2.21671522, 2.23888237, 2.26127119, 2.2838839 , 2.30672274,\n",
       "                   2.32978997, 2.35308787, 2.37661875, 2.40038494, 2.42438879,\n",
       "                   2.44863267, 2.473119  , 2.49785019, 2.52282869, 2.54805698,\n",
       "                   2.57353755, 2.59927293, 2.62526565, 2.65151831, 2.67803349]))"
      ]
     },
     "execution_count": 9,
     "metadata": {},
     "output_type": "execute_result"
    }
   ],
   "source": [
    "from modelproject import Solowclass\n",
    "\n",
    "# Calling the class from the notebook\n",
    "solow = Solowclass()\n",
    "# load parameters\n",
    "solow.paramtervalues()\n",
    "\n",
    "#capital output ratio with exhaustable resource\n",
    "solow.simulate(100,1,1,1,1)"
   ]
  },
  {
   "cell_type": "markdown",
   "metadata": {},
   "source": [
    "# Interactive plot "
   ]
  },
  {
   "cell_type": "markdown",
   "metadata": {},
   "source": [
    "Below, an interactive version of the convergence plot is shown. Using the widgets, different paramtervalues for $\\alpha, \\beta$ and $\\phi$ can be chosen. When $\\phi$ equals zero, the model is equivalent to a Solow model without damage due to climate change. Equivalently, when the sum of $\\alpha$ and $\\beta$ is equal to one, $\\epsilon$ is zero, and thus the usage of an exhaustible ressource is excluded from the production function, and thus the model becomes equivalent to the standards Solow model. \n"
   ]
  },
  {
   "cell_type": "code",
   "execution_count": 6,
   "metadata": {},
   "outputs": [
    {
     "data": {
      "application/vnd.jupyter.widget-view+json": {
       "model_id": "f852b312e9684876b1d6257561202731",
       "version_major": 2,
       "version_minor": 0
      },
      "text/plain": [
       "interactive(children=(FloatSlider(value=0.2, description='alpha', max=1.0, step=0.01), FloatSlider(value=0.6, …"
      ]
     },
     "metadata": {},
     "output_type": "display_data"
    },
    {
     "data": {
      "text/plain": [
       "<function ipywidgets.widgets.interaction._InteractFactory.__call__.<locals>.<lambda>(*args, **kwargs)>"
      ]
     },
     "execution_count": 6,
     "metadata": {},
     "output_type": "execute_result"
    }
   ],
   "source": [
    "# define widgets for the interactive plot\n",
    "alpha_widget = FloatSlider(min=0, max=1, step=0.01, value=0.2, description='alpha')\n",
    "beta_widget = FloatSlider(min=0, max=1, step=0.01, value=0.6, description='beta')\n",
    "phi_widget = FloatSlider(min=0, max=1, step=0.01, value=0.5, description='phi')\n",
    "\n",
    "# create interactive plot\n",
    "interact(solow.simulation_widget,alpha=alpha_widget,beta=beta_widget, phi=phi_widget) "
   ]
  }
 ],
 "metadata": {
  "kernelspec": {
   "display_name": "base",
   "language": "python",
   "name": "python3"
  },
  "language_info": {
   "codemirror_mode": {
    "name": "ipython",
    "version": 3
   },
   "file_extension": ".py",
   "mimetype": "text/x-python",
   "name": "python",
   "nbconvert_exporter": "python",
   "pygments_lexer": "ipython3",
   "version": "3.11.7"
  },
  "toc-autonumbering": true,
  "vscode": {
   "interpreter": {
    "hash": "47ef90cdf3004d3f859f1fb202523c65c07ba7c22eefd261b181f4744e2d0403"
   }
  }
 },
 "nbformat": 4,
 "nbformat_minor": 4
}
