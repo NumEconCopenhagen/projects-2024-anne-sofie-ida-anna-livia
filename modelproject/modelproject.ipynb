{
 "cells": [
  {
   "cell_type": "markdown",
   "metadata": {},
   "source": [
    "# Solow model with limited resources and climate change"
   ]
  },
  {
   "cell_type": "markdown",
   "metadata": {},
   "source": [
    "**Imports:**"
   ]
  },
  {
   "cell_type": "code",
   "execution_count": 1,
   "metadata": {},
   "outputs": [],
   "source": [
    "import numpy as np\n",
    "from scipy import optimize\n",
    "import sympy as sm\n",
    "\n",
    "# autoreload modules when code is run\n",
    "%load_ext autoreload\n",
    "%autoreload 2\n",
    "\n",
    "# local modules\n",
    "import modelproject"
   ]
  },
  {
   "cell_type": "markdown",
   "metadata": {},
   "source": [
    "# Model description"
   ]
  },
  {
   "cell_type": "markdown",
   "metadata": {},
   "source": [
    "This model project investigates the Solow model with limited resources and damage from climate change. The Solow model is a neoclassical growth model, which describes long-run growth as a function of capital accumulation, population growth, technological change, a limited resource and climate change. The model is specified under the assumption that the economy is closed. Furthermore, we will analyse the model in dsicrete time.\n",
    "\n",
    "We will model both a **baseline** solow model and the **extended** version to compare and discuss results."
   ]
  },
  {
   "cell_type": "markdown",
   "metadata": {},
   "source": [
    "# Baseline Solow model"
   ]
  },
  {
   "cell_type": "markdown",
   "metadata": {},
   "source": [
    "The baseline Solow model uses the following variables:\n",
    "1. Labour, $L_t$\n",
    "2. Capital, $K_t$\n",
    "3. Technology, $A_t$\n",
    "\n",
    "As input in the Cobb-Douglas production function:\n",
    "$$\n",
    "F(K,L) = Y_t = K_t^\\alpha(A_t L_t)^{1-\\alpha}, \\quad \\alpha \\leq 1\n",
    "$$\n",
    "\n",
    "Savings, $S_t$, are assumed to be a constant fraction of the income:\n",
    "$$\n",
    "S_t = sY_t, \\quad 0 < s < 1\n",
    "$$\n",
    "\n",
    "and capital accumulates according to: \n",
    "\n",
    "$$\n",
    "K_{t+1} = S_t + (1-\\delta)K_t, \\quad 0 < \\delta <1\n",
    "$$\n",
    "\n",
    "We furthermore assume that the workforce grows at a constant rate of *n*:\n",
    "$$\n",
    "L_{t+1} = (1+n)L_t, \\quad n > -1\n",
    "$$\n",
    "\n",
    "And that technology grows at the rate of *g*:\n",
    "$$\n",
    "A_{t+1} = (1+g)A_t, \\quad 0 < g < 1\n",
    "$$\n",
    "\n",
    "\n"
   ]
  },
  {
   "cell_type": "code",
   "execution_count": null,
   "metadata": {},
   "outputs": [],
   "source": [
    " "
   ]
  },
  {
   "cell_type": "markdown",
   "metadata": {},
   "source": [
    "# Extended Solow model"
   ]
  }
 ],
 "metadata": {
  "kernelspec": {
   "display_name": "base",
   "language": "python",
   "name": "python3"
  },
  "language_info": {
   "codemirror_mode": {
    "name": "ipython",
    "version": 3
   },
   "file_extension": ".py",
   "mimetype": "text/x-python",
   "name": "python",
   "nbconvert_exporter": "python",
   "pygments_lexer": "ipython3",
   "version": "3.9.10"
  },
  "toc-autonumbering": true,
  "vscode": {
   "interpreter": {
    "hash": "47ef90cdf3004d3f859f1fb202523c65c07ba7c22eefd261b181f4744e2d0403"
   }
  }
 },
 "nbformat": 4,
 "nbformat_minor": 4
}
