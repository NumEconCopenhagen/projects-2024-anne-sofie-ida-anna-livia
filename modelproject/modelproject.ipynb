{
 "cells": [
  {
   "cell_type": "markdown",
   "metadata": {},
   "source": [
    "# Solow model with limited resources and climate change"
   ]
  },
  {
   "cell_type": "markdown",
   "metadata": {},
   "source": [
    "Import relevant packages"
   ]
  },
  {
   "cell_type": "code",
   "execution_count": 21,
   "metadata": {},
   "outputs": [
    {
     "name": "stdout",
     "output_type": "stream",
     "text": [
      "The autoreload extension is already loaded. To reload it, use:\n",
      "  %reload_ext autoreload\n"
     ]
    }
   ],
   "source": [
    "import numpy as np\n",
    "from scipy import optimize\n",
    "import sympy as sm\n",
    "from ipywidgets import FloatSlider, interact\n",
    "\n",
    "# autoreload modules when code is run\n",
    "%load_ext autoreload\n",
    "%autoreload 2\n",
    "\n",
    "# local modules\n",
    "import modelproject"
   ]
  },
  {
   "cell_type": "markdown",
   "metadata": {},
   "source": [
    "# Model description"
   ]
  },
  {
   "cell_type": "markdown",
   "metadata": {},
   "source": [
    "This model project investigates the Solow model with limited resources and damage from climate change. The Solow model is a neoclassical growth model, which describes long-run growth as a function of capital accumulation, population growth, technological change, a limited resource and climate change. The model is specified under the assumption that the economy is closed. \n",
    "\n",
    "\n",
    "We will model both a **baseline** solow model and the **extended** version to compare and discuss results."
   ]
  },
  {
   "cell_type": "markdown",
   "metadata": {},
   "source": [
    "# Baseline Solow model"
   ]
  },
  {
   "cell_type": "markdown",
   "metadata": {},
   "source": [
    "The baseline Solow model uses the following variables:\n",
    "1. Labour, $L_t$\n",
    "2. Capital, $K_t$\n",
    "3. Technology, $A_t$\n",
    "\n",
    "as input in the Cobb-Douglas production function: \n",
    "$$\n",
    "F(K_t,A_tL_t) = Y_t = K_t^\\alpha(A_t L_t)^{1-\\alpha}, \\quad \\alpha \\leq 1\n",
    "$$\n",
    "\n",
    "Savings, $S_t$, are assumed to be a constant fraction of the income:\n",
    "$$\n",
    "S_t = sY_t, \\quad 0 < s < 1\n",
    "$$\n",
    "\n",
    "and capital accumulates according to:\n",
    "\n",
    "$$\n",
    "K_{t+1} = S_t + (1-\\delta)K_t, \\quad 0 < \\delta <1\n",
    "$$\n",
    "We furthermore assume that the workforce grows at a constant rate of n:\n",
    "$$\n",
    "L_{t+1} = (1+n)L_t, \\quad n > -1\n",
    "$$\n",
    "And that technology grows at the rate of g:\n",
    "$$\n",
    "A_{t+1} = (1+g)A_t, \\quad 0 < g < 1\n",
    "$$"
   ]
  },
  {
   "cell_type": "markdown",
   "metadata": {},
   "source": [
    "The production function exhibits constant returns to scale. Capital per effective worker is given by: \n",
    "$$\n",
    "\\frac{Y_{t}}{A_{t}L_{t}} = \\frac{F(K_t,A_tL_t)}{A_tL_t}\\equiv f(\\tilde k)\n",
    "$$\n",
    "\n",
    "The production function can be rewritten as: \n",
    "$$\n",
    "F(K_t,A_tL_T)=K_t^\\alpha (A_tL_t)^{1-\\alpha} \\rightarrow f(\\tilde k) = \\tilde k^\\alpha\n",
    "$$\n",
    "\n",
    "The transition equation is thus given by: \n",
    "$$\n",
    "\\tilde k_{t+1}=\\frac{1}{(1+n)(1+g)}[sf(\\tilde k_t)+(1-\\delta)\\tilde k_t]\n",
    "$$"
   ]
  },
  {
   "cell_type": "markdown",
   "metadata": {},
   "source": [
    "# Extended Solow model"
   ]
  },
  {
   "cell_type": "markdown",
   "metadata": {},
   "source": [
    "We extend the baseline Solow model to include an exhaustable ressource, e.g., oil, in the production function. The usage of the exhaustible ressource leads to climate change, which damages future production. \n",
    "\n",
    "In addition to the variables used in the standard Solow model, the following variables are included in the production function: \n",
    " \n",
    "4. The amount of the exhaustable natural ressource, which is used for production, $E_t$\n",
    "\n",
    "5. The fraction of the production, which is damaged and thus lost due to climate change, $D_t$ \n",
    "\n",
    "The production function is given by: "
   ]
  },
  {
   "cell_type": "markdown",
   "metadata": {},
   "source": [
    "\n",
    "$$\n",
    "Y_{t}=[1-D_{t}]K_{t}^\\alpha(A_{t}L_{t})^\\beta E_{t}^\\varepsilon, \\quad \\alpha, \\beta, \\varepsilon >0, \\quad  \\alpha+\\beta+\\varepsilon=1\n",
    "$$\n",
    "\n",
    "The damage due to climate change is expressed by: \n",
    "\n",
    "$$\n",
    "D_{t}=1-\\left(\\frac{R_{t}}{R_{0}}\\right)^{\\phi}, \\quad \\phi \\ge 0\n",
    "$$\n",
    "\n",
    "The remaining amount of the exhaustable ressource, $R_t$, is given as the amount still left at the beginning of the proceeding period subtracted the amount used in production in the proceeding period: \n",
    "$$\n",
    "R_{t+1}=R_{t}-E_{t}, \\quad R_{0}\\text{ is given.}\n",
    "$$\n",
    "\n",
    "The amount of the exhaustable ressource consumed each period is a constant fraction, sE, of the remaining ressource: \n",
    "$$\n",
    "E_{t}=s_{E}R_{t}, \\quad 0<s_{E}< 1\n",
    "$$\n",
    "The remaining equations are unchanged from the standard Solow model. Thus capital accumulates according to: \n",
    "$$\n",
    "K_{t+1}=sY_{t}+(1-\\delta)K_t,  \\quad 0<s<1, \\quad 0<\\delta<1, \\quad K_{0}>0 \\text{ is given.}\n",
    "$$\n",
    "The population grows at a constant rate, n: \n",
    "$$\n",
    "L_{t+1}=(1+n)L_{t}, \\quad L_{0} \\text{ is given.}\n",
    "$$\n",
    "And technology develops at the rate of g: \n",
    "$$\n",
    "A_{t+1}=(1+g)A_{t}, \\quad A_{0} \\text{ is given.} \n",
    "$$\n"
   ]
  },
  {
   "cell_type": "markdown",
   "metadata": {},
   "source": [
    "The capital-output ratio is given as: \n",
    "$$\n",
    "z_t = \\frac{K_t}{Y_t} = \\frac{K^{1-\\alpha}_t}{(\\frac{R_t}{R_0})^\\phi (A_tL_t)^\\beta E_t^\\epsilon}\n",
    "$$\n",
    "\n",
    "And the transition equation is then: \n",
    "$$\n",
    "z_{t+1}=(\\frac{1}{1-sE})^{\\epsilon+\\phi} (\\frac{1}{(1+n)(1+g)})^\\beta (s+(1-\\delta)z_t)^{1-\\alpha}z_t^\\alpha\n",
    "$$"
   ]
  },
  {
   "cell_type": "markdown",
   "metadata": {},
   "source": [
    "# Numerical solution of the Solow model"
   ]
  },
  {
   "cell_type": "code",
   "execution_count": 22,
   "metadata": {},
   "outputs": [],
   "source": [
    "from modelproject import Solowclass"
   ]
  },
  {
   "cell_type": "markdown",
   "metadata": {},
   "source": [
    "Baseline Solow model. In the baseline model we solve for $ \\tilde k$ (capital per effective worker): "
   ]
  },
  {
   "cell_type": "code",
   "execution_count": 23,
   "metadata": {},
   "outputs": [
    {
     "name": "stdout",
     "output_type": "stream",
     "text": [
      "The steady state for k in the standard Solow model is 4.680802838247644\n"
     ]
    }
   ],
   "source": [
    "# Calling the class from the notebook\n",
    "model = Solowclass()\n",
    "\n",
    "# Set parameter values\n",
    "model.paramtervalues()\n",
    "\n",
    "# Solving for k*\n",
    "model.solve_ss_k_par(kss=1)"
   ]
  },
  {
   "cell_type": "markdown",
   "metadata": {},
   "source": [
    "The extended Solow model. In the extended model we solve for z (capital/output-ratio)."
   ]
  },
  {
   "cell_type": "code",
   "execution_count": 24,
   "metadata": {},
   "outputs": [
    {
     "name": "stdout",
     "output_type": "stream",
     "text": [
      "The steady state for z in the Solow model with an exhaustable resource and climate change is 4.0913116295145855\n"
     ]
    }
   ],
   "source": [
    "# Solving for z*\n",
    "model.solve_ss_z_par(zss=1)"
   ]
  },
  {
   "cell_type": "markdown",
   "metadata": {},
   "source": [
    "# Plotting convergence to steady state"
   ]
  },
  {
   "cell_type": "code",
   "execution_count": 25,
   "metadata": {},
   "outputs": [
    {
     "data": {
      "image/png": "[encoded data removed]",
      "text/plain": [
       "<Figure size 640x480 with 1 Axes>"
      ]
     },
     "metadata": {},
     "output_type": "display_data"
    }
   ],
   "source": [
    "from modelproject import Solowclass\n",
    "\n",
    "# Calling the class from the notebook\n",
    "solow = Solowclass()\n",
    "# load parameters\n",
    "solow.paramtervalues()\n",
    "\n",
    "#capital output ratio with exhaustable resource\n",
    "solow.simulate(100,1,1,1,1);"
   ]
  },
  {
   "cell_type": "markdown",
   "metadata": {},
   "source": [
    "# Interactive plot "
   ]
  },
  {
   "cell_type": "markdown",
   "metadata": {},
   "source": [
    "Below, an interactive version of the convergence plot is shown. Using the widgets, different paramtervalues for $\\alpha, \\beta$ and $\\phi$ can be chosen. When $\\phi$ equals zero, the model is equivalent to a Solow model without damage due to climate change. Equivalently, when the sum of $\\alpha$ and $\\beta$ is equal to one, $\\epsilon$ is zero, and thus the usage of an exhaustible ressource is excluded from the production function, and thus the model becomes equivalent to the standards Solow model. \n"
   ]
  },
  {
   "cell_type": "code",
   "execution_count": 26,
   "metadata": {},
   "outputs": [
    {
     "data": {
      "application/vnd.jupyter.widget-view+json": {
       "model_id": "b94ada6852ce4b1db93b8c52e6f48e91",
       "version_major": 2,
       "version_minor": 0
      },
      "text/plain": [
       "interactive(children=(FloatSlider(value=0.2, description='alpha', max=1.0, step=0.01), FloatSlider(value=0.6, …"
      ]
     },
     "metadata": {},
     "output_type": "display_data"
    },
    {
     "data": {
      "text/plain": [
       "<function ipywidgets.widgets.interaction._InteractFactory.__call__.<locals>.<lambda>(*args, **kwargs)>"
      ]
     },
     "execution_count": 26,
     "metadata": {},
     "output_type": "execute_result"
    }
   ],
   "source": [
    "# define widgets for the interactive plot\n",
    "alpha_widget = FloatSlider(min=0, max=1, step=0.01, value=0.2, description='alpha')\n",
    "beta_widget = FloatSlider(min=0, max=1, step=0.01, value=0.6, description='beta')\n",
    "phi_widget = FloatSlider(min=0, max=1, step=0.01, value=0.5, description='phi')\n",
    "\n",
    "interact(solow.simulation_widget, alpha=alpha_widget, beta=beta_widget, phi=phi_widget)\n"
   ]
  },
  {
   "cell_type": "code",
   "execution_count": null,
   "metadata": {},
   "outputs": [],
   "source": []
  }
 ],
 "metadata": {
  "kernelspec": {
   "display_name": "base",
   "language": "python",
   "name": "python3"
  },
  "language_info": {
   "codemirror_mode": {
    "name": "ipython",
    "version": 3
   },
   "file_extension": ".py",
   "mimetype": "text/x-python",
   "name": "python",
   "nbconvert_exporter": "python",
   "pygments_lexer": "ipython3",
   "version": "3.11.7"
  },
  "toc-autonumbering": true,
  "vscode": {
   "interpreter": {
    "hash": "47ef90cdf3004d3f859f1fb202523c65c07ba7c22eefd261b181f4744e2d0403"
   }
  }
 },
 "nbformat": 4,
 "nbformat_minor": 4
}
