{
 "cells": [
  {
   "cell_type": "markdown",
   "metadata": {},
   "source": [
    "# Solow model with limited resources and climate change"
   ]
  },
  {
   "cell_type": "markdown",
   "metadata": {},
   "source": [
    "**Imports:**"
   ]
  },
  {
   "cell_type": "code",
   "execution_count": 1,
   "metadata": {},
   "outputs": [],
   "source": [
    "import numpy as np\n",
    "from scipy import optimize\n",
    "import sympy as sm\n",
    "\n",
    "# autoreload modules when code is run\n",
    "%load_ext autoreload\n",
    "%autoreload 2\n",
    "\n",
    "# local modules\n",
    "import modelproject"
   ]
  },
  {
   "cell_type": "markdown",
   "metadata": {},
   "source": [
    "# Model description"
   ]
  },
  {
   "cell_type": "markdown",
   "metadata": {},
   "source": [
    "This model project investigates the Solow model with limited resources and damage from climate change. The Solow model is a neoclassical growth model, which describes long-run growth as a function of capital accumulation, population growth, technological change, a limited resource and climate change. The model is specified under the assumption that the economy is closed. \\\n",
    "\n",
    "We will model both a **baseline** solow model and the **extended** version to compare and discuss results."
   ]
  },
  {
   "cell_type": "markdown",
   "metadata": {},
   "source": [
    "# Baseline Solow model"
   ]
  },
  {
   "cell_type": "markdown",
   "metadata": {},
   "source": [
    "The baseline Solow model uses the following variables:\n",
    "1. Labour, $L_t$\n",
    "2. Capital, $K_t$\n",
    "3. Technology, $A_t$\n",
    "\n",
    "As input in the Cobb-Douglas production function:\n",
    "$$\n",
    "F(K,L) = Y_t = K_t^\\alpha(A_t L_t)^{1-\\\\alpha}, \\quad \\alpha \\leq 1\n",
    "$$\n",
    "\n",
    "Savings, $S_t$, are assumed to be a constant fraction of the income:\n",
    "$$\n",
    "S_t = sY_t, \\quad 0 < s < 1\n",
    "$$\n",
    "\n",
    "and capital accumulates according to:\n",
    "\n",
    "$$\n",
    "K_{t+1} = S_t + (1-\\delta)K_t, \\quad 0 < \\delta <1\n",
    "$$\n",
    "We furthermore assume that the workforce grows at a constant rate of n:\n",
    "$$\n",
    "L_{t+1} = (1+n)L_t, \\quad n > -1\n",
    "$$\n",
    "And that technology grows at the rate of g:\n",
    "$$\n",
    "A_{t+1} = (1+g)A_t, \\quad 0 < g < 1\n",
    "$$"
   ]
  },
  {
   "cell_type": "code",
   "execution_count": null,
   "metadata": {},
   "outputs": [],
   "source": []
  },
  {
   "cell_type": "markdown",
   "metadata": {},
   "source": []
  },
  {
   "cell_type": "code",
   "execution_count": null,
   "metadata": {},
   "outputs": [],
   "source": [
    " "
   ]
  },
  {
   "cell_type": "markdown",
   "metadata": {},
   "source": [
    "# Extended Solow model"
   ]
  },
  {
   "cell_type": "markdown",
   "metadata": {},
   "source": [
    "We also extend the baseline Solow model to include exhaustible ressource. "
   ]
  },
  {
   "cell_type": "markdown",
   "metadata": {},
   "source": [
    "\n",
    "$$\n",
    "Y_{t}=[1-D_{t}]K_{t}^\\alpha(A_{t}L_{t})^\\beta E_{t}^\\varepsilon, \\quad \\alpha, \\beta, \\varepsilon >0, \\quad  \\alpha+\\beta+\\varepsilon=1\n",
    "$$\n",
    "\n",
    "$$\n",
    "D_{t}=1-\\left(\\frac{R_{t}}{R_{0}}\\right)^{\\phi}, \\quad \\phi \\ge 0\n",
    "$$\n",
    "\n",
    "$$\n",
    "R_{t+1}=R_{t}-E_{t}, \\quad R_{0}\\text{is given.}\n",
    "$$\n",
    "\n",
    "$$\n",
    "E_{t}=s_{E}R_{t}, \\quad 0<s_{E}< 1\n",
    "$$\n",
    "\n",
    "$$\n",
    "K_{t+1}=sY_{t}+(1-\\delta)K_t,  \\quad 0<s<1, \\quad 0<\\delta<1, \\quad K_{0}>0 \\text{is given.}\n",
    "$$\n",
    "\n",
    "$$\n",
    "L_{t+1}=(1+n)L_{t}, \\quad L_{0} \\text{is given.}\n",
    "$$\n",
    "\n",
    "$$\n",
    "A_{t+1}=(1+g)A_{t}, \\quad A_{0} \\text{is given.} \n",
    "$$\n"
   ]
  },
  {
   "cell_type": "markdown",
   "metadata": {},
   "source": [
    "$K_{t}, L_{t}$ and $A_{t}$ are defined as for the baseline Solow model. $E_{t}$ is the exhaustable resource (ie. oil) and $D_{t}$ is climate change. It is assumed that climate change reduces production by one portion $(D_{t})$, that is, a damaged part of production $(D_{t}Y_{t})$ is lost, and the portion $(1-D_{t})$ of productions \"survives\" for consumption and investment. The degree of climate change depend on how much of the exhaustable ressource $(E_t)$ has been consumed. Each period the fraction $s_{E}$ of the exhaustable resource is consumed."
   ]
  }
 ],
 "metadata": {
  "kernelspec": {
   "display_name": "base",
   "language": "python",
   "name": "python3"
  },
  "language_info": {
   "codemirror_mode": {
    "name": "ipython",
    "version": 3
   },
   "file_extension": ".py",
   "mimetype": "text/x-python",
   "name": "python",
   "nbconvert_exporter": "python",
   "pygments_lexer": "ipython3",
   "version": "3.11.5"
  },
  "toc-autonumbering": true,
  "vscode": {
   "interpreter": {
    "hash": "47ef90cdf3004d3f859f1fb202523c65c07ba7c22eefd261b181f4744e2d0403"
   }
  }
 },
 "nbformat": 4,
 "nbformat_minor": 4
}
